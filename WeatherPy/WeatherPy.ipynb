{
 "cells": [
  {
   "cell_type": "markdown",
   "metadata": {},
   "source": [
    "# WeatherPy\n",
    "----\n",
    "\n",
    "#### Note\n",
    "* Instructions have been included for each segment. You do not have to follow them exactly, but they are included to help you think through the steps."
   ]
  },
  {
   "cell_type": "code",
   "execution_count": 6,
   "metadata": {
    "scrolled": true
   },
   "outputs": [],
   "source": [
    "# Dependencies and Setup\n",
    "import matplotlib.pyplot as plt\n",
    "import pandas as pd\n",
    "import numpy as np\n",
    "import requests\n",
    "import time\n",
    "from scipy.stats import linregress\n",
    "\n",
    "# Import API key\n",
    "from config import api_key\n",
    "\n",
    "# Incorporated citipy to determine city based on latitude and longitude\n",
    "import citipy\n",
    "\n",
    "# Output File (CSV)\n",
    "output_data_file = \"output_data/cities.csv\"\n",
    "\n",
    "# Range of latitudes and longitudes\n",
    "lat_range = (-90, 90)\n",
    "lng_range = (-180, 180)"
   ]
  },
  {
   "cell_type": "markdown",
   "metadata": {},
   "source": [
    "## Generate Cities List"
   ]
  },
  {
   "cell_type": "code",
   "execution_count": 7,
   "metadata": {},
   "outputs": [
    {
     "data": {
      "text/plain": [
       "595"
      ]
     },
     "execution_count": 7,
     "metadata": {},
     "output_type": "execute_result"
    }
   ],
   "source": [
    "# List for holding lat_lngs and cities\n",
    "lat_lngs = []\n",
    "cities = []\n",
    "\n",
    "# Create a set of random lat and lng combinations\n",
    "lats = np.random.uniform(lat_range[0], lat_range[1], size=1500)\n",
    "lngs = np.random.uniform(lng_range[0], lng_range[1], size=1500)\n",
    "lat_lngs = zip(lats, lngs)\n",
    "\n",
    "# Identify nearest city for each lat, lng combination\n",
    "for lat_lng in lat_lngs:\n",
    "    city = citipy.nearest_city(lat_lng[0], lat_lng[1]).city_name\n",
    "    \n",
    "    # If the city is unique, then add it to a our cities list\n",
    "    if city not in cities:\n",
    "        cities.append(city)\n",
    "\n",
    "# Print the city count to confirm sufficient count\n",
    "len(cities)"
   ]
  },
  {
   "cell_type": "markdown",
   "metadata": {},
   "source": [
    "### Perform API Calls\n",
    "* Perform a weather check on each city using a series of successive API calls.\n",
    "* Include a print log of each city as it'sbeing processed (with the city number and city name).\n"
   ]
  },
  {
   "cell_type": "code",
   "execution_count": 13,
   "metadata": {
    "scrolled": true
   },
   "outputs": [
    {
     "name": "stdout",
     "output_type": "stream",
     "text": [
      "Beginning Data Retrieval \n",
      " -----------------------\n",
      "Processing Record 1 of Set 1 | khatanga\n",
      "Processing Record 2 of Set 1 | garowe\n",
      "Processing Record 3 of Set 1 | jilmah\n",
      "City not found. Skipping . . .\n",
      "Processing Record 3 of Set 1 | bredasdorp\n",
      "Processing Record 4 of Set 1 | esperance\n",
      "Processing Record 5 of Set 1 | yellowknife\n",
      "Processing Record 6 of Set 1 | kapaa\n",
      "Processing Record 7 of Set 1 | lucea\n",
      "Processing Record 8 of Set 1 | quirinopolis\n",
      "Processing Record 9 of Set 1 | mys shmidta\n",
      "City not found. Skipping . . .\n",
      "Processing Record 9 of Set 1 | nelson bay\n",
      "Processing Record 10 of Set 1 | ushuaia\n",
      "Processing Record 11 of Set 1 | rikitea\n",
      "Processing Record 12 of Set 1 | atuona\n",
      "Processing Record 13 of Set 1 | falmouth\n",
      "Processing Record 14 of Set 1 | norman wells\n",
      "Processing Record 15 of Set 1 | hilo\n",
      "Processing Record 16 of Set 1 | santa lucia\n",
      "Processing Record 17 of Set 1 | kloulklubed\n",
      "Processing Record 18 of Set 1 | jamestown\n",
      "Processing Record 19 of Set 1 | narsaq\n",
      "Processing Record 20 of Set 1 | saskylakh\n",
      "Processing Record 21 of Set 1 | illoqqortoormiut\n",
      "City not found. Skipping . . .\n",
      "Processing Record 21 of Set 1 | lagoa\n",
      "Processing Record 22 of Set 1 | arraial do cabo\n",
      "Processing Record 23 of Set 1 | ilulissat\n",
      "Processing Record 24 of Set 1 | mucuri\n",
      "Processing Record 25 of Set 1 | srednekolymsk\n",
      "Processing Record 26 of Set 1 | fairbanks\n",
      "Processing Record 27 of Set 1 | alofi\n",
      "Processing Record 28 of Set 1 | starotitarovskaya\n",
      "Processing Record 29 of Set 1 | sur\n",
      "Processing Record 30 of Set 1 | santa isabel do rio negro\n",
      "Processing Record 31 of Set 1 | meulaboh\n",
      "Processing Record 32 of Set 1 | tasiilaq\n",
      "Processing Record 33 of Set 1 | siguiri\n",
      "Processing Record 34 of Set 1 | mataura\n",
      "Processing Record 35 of Set 1 | odweyne\n",
      "Processing Record 36 of Set 1 | clonakilty\n",
      "Processing Record 37 of Set 1 | bethel\n",
      "Processing Record 38 of Set 1 | barrow\n",
      "Processing Record 39 of Set 1 | taolanaro\n",
      "City not found. Skipping . . .\n",
      "Processing Record 39 of Set 1 | ewa beach\n",
      "Processing Record 40 of Set 1 | lata\n",
      "Processing Record 41 of Set 1 | egvekinot\n",
      "Processing Record 42 of Set 1 | avarua\n",
      "Processing Record 43 of Set 1 | seoul\n",
      "Processing Record 44 of Set 1 | kaitangata\n",
      "Processing Record 45 of Set 1 | thompson\n",
      "Processing Record 46 of Set 1 | sinnamary\n",
      "Processing Record 47 of Set 1 | upernavik\n",
      "Processing Record 48 of Set 1 | pisco\n",
      "Processing Record 49 of Set 1 | chokurdakh\n",
      "Processing Record 50 of Set 1 | punta arenas\n",
      "Processing Record 1 of Set 2 | vao\n",
      "Processing Record 2 of Set 2 | albany\n",
      "Processing Record 3 of Set 2 | qinhuangdao\n",
      "Processing Record 4 of Set 2 | clyde river\n",
      "Processing Record 5 of Set 2 | hobart\n",
      "Processing Record 6 of Set 2 | castro\n",
      "Processing Record 7 of Set 2 | vaini\n",
      "Processing Record 8 of Set 2 | busselton\n",
      "Processing Record 9 of Set 2 | puerto ayora\n",
      "Processing Record 10 of Set 2 | butaritari\n",
      "Processing Record 11 of Set 2 | port elizabeth\n",
      "Processing Record 12 of Set 2 | tsihombe\n",
      "City not found. Skipping . . .\n",
      "Processing Record 12 of Set 2 | lorengau\n",
      "Processing Record 13 of Set 2 | katsuura\n",
      "Processing Record 14 of Set 2 | bluff\n",
      "Processing Record 15 of Set 2 | trelew\n",
      "Processing Record 16 of Set 2 | bathsheba\n",
      "Processing Record 17 of Set 2 | saleaula\n",
      "City not found. Skipping . . .\n",
      "Processing Record 17 of Set 2 | marshfield\n",
      "Processing Record 18 of Set 2 | lebu\n",
      "Processing Record 19 of Set 2 | lubbock\n",
      "Processing Record 20 of Set 2 | moree\n",
      "Processing Record 21 of Set 2 | barentsburg\n",
      "City not found. Skipping . . .\n",
      "Processing Record 21 of Set 2 | hualmay\n",
      "Processing Record 22 of Set 2 | bengkulu\n",
      "Processing Record 23 of Set 2 | zhigansk\n",
      "Processing Record 24 of Set 2 | petropavlovsk-kamchatskiy\n",
      "Processing Record 25 of Set 2 | vila franca do campo\n",
      "Processing Record 26 of Set 2 | hithadhoo\n",
      "Processing Record 27 of Set 2 | naryan-mar\n",
      "Processing Record 28 of Set 2 | san pedro\n",
      "Processing Record 29 of Set 2 | requena\n",
      "Processing Record 30 of Set 2 | namatanai\n",
      "Processing Record 31 of Set 2 | college\n",
      "Processing Record 32 of Set 2 | katsiveli\n",
      "City not found. Skipping . . .\n",
      "Processing Record 32 of Set 2 | yarensk\n",
      "Processing Record 33 of Set 2 | salalah\n",
      "Processing Record 34 of Set 2 | amderma\n",
      "City not found. Skipping . . .\n",
      "Processing Record 34 of Set 2 | sfantu gheorghe\n",
      "Processing Record 35 of Set 2 | hanna\n",
      "Processing Record 36 of Set 2 | hermanus\n",
      "Processing Record 37 of Set 2 | port augusta\n",
      "Processing Record 38 of Set 2 | provideniya\n",
      "Processing Record 39 of Set 2 | sorland\n",
      "Processing Record 40 of Set 2 | mahebourg\n",
      "Processing Record 41 of Set 2 | trofors\n",
      "Processing Record 42 of Set 2 | yeletskiy\n",
      "City not found. Skipping . . .\n",
      "Processing Record 42 of Set 2 | saint-pierre\n",
      "Processing Record 43 of Set 2 | klaksvik\n",
      "Processing Record 44 of Set 2 | yenagoa\n",
      "Processing Record 45 of Set 2 | port alfred\n",
      "Processing Record 46 of Set 2 | new norfolk\n",
      "Processing Record 47 of Set 2 | cherskiy\n",
      "Processing Record 48 of Set 2 | basco\n",
      "Processing Record 49 of Set 2 | cabo san lucas\n",
      "Processing Record 50 of Set 2 | ordzhonikidze\n",
      "Processing Record 1 of Set 3 | atar\n",
      "Processing Record 2 of Set 3 | nemuro\n",
      "Processing Record 3 of Set 3 | souillac\n",
      "Processing Record 4 of Set 3 | cape town\n",
      "Processing Record 5 of Set 3 | kununurra\n",
      "Processing Record 6 of Set 3 | faanui\n",
      "Processing Record 7 of Set 3 | qaanaaq\n",
      "Processing Record 8 of Set 3 | vaitape\n",
      "Processing Record 9 of Set 3 | mar del plata\n",
      "Processing Record 10 of Set 3 | attawapiskat\n",
      "City not found. Skipping . . .\n",
      "Processing Record 10 of Set 3 | bethanien\n",
      "Processing Record 11 of Set 3 | vadso\n",
      "Processing Record 12 of Set 3 | sheltozero\n",
      "Processing Record 13 of Set 3 | malwan\n",
      "City not found. Skipping . . .\n",
      "Processing Record 13 of Set 3 | ambanja\n",
      "Processing Record 14 of Set 3 | luanda\n",
      "Processing Record 15 of Set 3 | champerico\n",
      "Processing Record 16 of Set 3 | olavarria\n",
      "Processing Record 17 of Set 3 | malmesbury\n",
      "Processing Record 18 of Set 3 | sangar\n",
      "Processing Record 19 of Set 3 | tidore\n",
      "City not found. Skipping . . .\n",
      "Processing Record 19 of Set 3 | pevek\n",
      "Processing Record 20 of Set 3 | severo-kurilsk\n",
      "Processing Record 21 of Set 3 | eirunepe\n",
      "Processing Record 22 of Set 3 | ponta do sol\n",
      "Processing Record 23 of Set 3 | los llanos de aridane\n",
      "Processing Record 24 of Set 3 | mount gambier\n",
      "Processing Record 25 of Set 3 | tilichiki\n",
      "Processing Record 26 of Set 3 | turukhansk\n",
      "Processing Record 27 of Set 3 | acapulco\n",
      "Processing Record 28 of Set 3 | porbandar\n",
      "Processing Record 29 of Set 3 | lima\n",
      "Processing Record 30 of Set 3 | muros\n",
      "Processing Record 31 of Set 3 | constitucion\n",
      "Processing Record 32 of Set 3 | skelleftea\n",
      "Processing Record 33 of Set 3 | ballina\n",
      "Processing Record 34 of Set 3 | sorvag\n",
      "City not found. Skipping . . .\n",
      "Processing Record 34 of Set 3 | batagay-alyta\n",
      "Processing Record 35 of Set 3 | gorodovikovsk\n",
      "Processing Record 36 of Set 3 | daru\n",
      "Processing Record 37 of Set 3 | kahului\n",
      "Processing Record 38 of Set 3 | carnarvon\n",
      "Processing Record 39 of Set 3 | bargal\n",
      "City not found. Skipping . . .\n",
      "Processing Record 39 of Set 3 | tiksi\n",
      "Processing Record 40 of Set 3 | roma\n",
      "Processing Record 41 of Set 3 | lebyazhye\n",
      "Processing Record 42 of Set 3 | belushya guba\n",
      "City not found. Skipping . . .\n",
      "Processing Record 42 of Set 3 | kodiak\n",
      "Processing Record 43 of Set 3 | tabuk\n",
      "Processing Record 44 of Set 3 | ruwi\n",
      "Processing Record 45 of Set 3 | dingle\n",
      "Processing Record 46 of Set 3 | marystown\n",
      "Processing Record 47 of Set 3 | houma\n",
      "Processing Record 48 of Set 3 | pringsewu\n",
      "Processing Record 49 of Set 3 | gorontalo\n",
      "Processing Record 50 of Set 3 | kapuskasing\n",
      "Processing Record 1 of Set 4 | bambous virieux\n",
      "Processing Record 2 of Set 4 | sioux lookout\n",
      "Processing Record 3 of Set 4 | sayyan\n",
      "Processing Record 4 of Set 4 | hami\n",
      "Processing Record 5 of Set 4 | hihifo\n",
      "City not found. Skipping . . .\n",
      "Processing Record 5 of Set 4 | grimari\n",
      "City not found. Skipping . . .\n",
      "Processing Record 5 of Set 4 | kolda\n",
      "Processing Record 6 of Set 4 | halifax\n",
      "Processing Record 7 of Set 4 | takestan\n",
      "Processing Record 8 of Set 4 | ukiah\n",
      "Processing Record 9 of Set 4 | komatipoort\n",
      "Processing Record 10 of Set 4 | victoria\n",
      "Processing Record 11 of Set 4 | nouadhibou\n",
      "Processing Record 12 of Set 4 | longyearbyen\n",
      "Processing Record 13 of Set 4 | ostrovnoy\n",
      "Processing Record 14 of Set 4 | bida\n",
      "Processing Record 15 of Set 4 | vostok\n",
      "Processing Record 16 of Set 4 | nikolskoye\n",
      "Processing Record 17 of Set 4 | paka\n",
      "Processing Record 18 of Set 4 | asau\n"
     ]
    },
    {
     "name": "stdout",
     "output_type": "stream",
     "text": [
      "Processing Record 19 of Set 4 | guerrero negro\n",
      "Processing Record 20 of Set 4 | sitka\n",
      "Processing Record 21 of Set 4 | port macquarie\n",
      "Processing Record 22 of Set 4 | rocha\n",
      "Processing Record 23 of Set 4 | codrington\n",
      "Processing Record 24 of Set 4 | torbay\n",
      "Processing Record 25 of Set 4 | port hedland\n",
      "Processing Record 26 of Set 4 | grindavik\n",
      "Processing Record 27 of Set 4 | chara\n",
      "Processing Record 28 of Set 4 | artesia\n",
      "Processing Record 29 of Set 4 | east london\n",
      "Processing Record 30 of Set 4 | tuatapere\n",
      "Processing Record 31 of Set 4 | chernyshevskiy\n",
      "Processing Record 32 of Set 4 | independence\n",
      "Processing Record 33 of Set 4 | chapais\n",
      "Processing Record 34 of Set 4 | saint-georges\n",
      "Processing Record 35 of Set 4 | ugoofaaru\n",
      "Processing Record 36 of Set 4 | lompoc\n",
      "Processing Record 37 of Set 4 | saint-philippe\n",
      "Processing Record 38 of Set 4 | dalinghe\n",
      "City not found. Skipping . . .\n",
      "Processing Record 38 of Set 4 | impfondo\n",
      "Processing Record 39 of Set 4 | altay\n",
      "Processing Record 40 of Set 4 | pachino\n",
      "Processing Record 41 of Set 4 | port-gentil\n",
      "Processing Record 42 of Set 4 | tubruq\n",
      "City not found. Skipping . . .\n",
      "Processing Record 42 of Set 4 | balkanabat\n",
      "Processing Record 43 of Set 4 | chuy\n",
      "Processing Record 44 of Set 4 | ayan\n",
      "Processing Record 45 of Set 4 | iracoubo\n",
      "Processing Record 46 of Set 4 | santa maria\n",
      "Processing Record 47 of Set 4 | laguna\n",
      "Processing Record 48 of Set 4 | geraldton\n",
      "Processing Record 49 of Set 4 | pacific grove\n",
      "Processing Record 50 of Set 4 | saldanha\n",
      "Processing Record 1 of Set 5 | masterton\n",
      "Processing Record 2 of Set 5 | bolgatanga\n",
      "Processing Record 3 of Set 5 | wahran\n",
      "City not found. Skipping . . .\n",
      "Processing Record 3 of Set 5 | walvis bay\n",
      "Processing Record 4 of Set 5 | agadez\n",
      "Processing Record 5 of Set 5 | pingliang\n",
      "Processing Record 6 of Set 5 | binabalian\n",
      "Processing Record 7 of Set 5 | northam\n",
      "Processing Record 8 of Set 5 | tuktoyaktuk\n",
      "Processing Record 9 of Set 5 | beringovskiy\n",
      "Processing Record 10 of Set 5 | aswan\n",
      "Processing Record 11 of Set 5 | nyuksenitsa\n",
      "Processing Record 12 of Set 5 | phan rang\n",
      "City not found. Skipping . . .\n",
      "Processing Record 12 of Set 5 | huilong\n",
      "Processing Record 13 of Set 5 | aklavik\n",
      "Processing Record 14 of Set 5 | tongliao\n",
      "Processing Record 15 of Set 5 | itororo\n",
      "Processing Record 16 of Set 5 | coquimbo\n",
      "Processing Record 17 of Set 5 | tumannyy\n",
      "City not found. Skipping . . .\n",
      "Processing Record 17 of Set 5 | westport\n",
      "Processing Record 18 of Set 5 | upington\n",
      "Processing Record 19 of Set 5 | kavant\n",
      "City not found. Skipping . . .\n",
      "Processing Record 19 of Set 5 | lubango\n",
      "Processing Record 20 of Set 5 | paradwip\n",
      "City not found. Skipping . . .\n",
      "Processing Record 20 of Set 5 | brigantine\n",
      "Processing Record 21 of Set 5 | umzimvubu\n",
      "City not found. Skipping . . .\n",
      "Processing Record 21 of Set 5 | novo aripuana\n",
      "Processing Record 22 of Set 5 | moses lake\n",
      "Processing Record 23 of Set 5 | atambua\n",
      "Processing Record 24 of Set 5 | kuito\n",
      "Processing Record 25 of Set 5 | ulaanbaatar\n",
      "Processing Record 26 of Set 5 | boca do acre\n",
      "Processing Record 27 of Set 5 | brae\n",
      "Processing Record 28 of Set 5 | darya khan mari\n",
      "City not found. Skipping . . .\n",
      "Processing Record 28 of Set 5 | chekhov\n",
      "Processing Record 29 of Set 5 | trat\n",
      "Processing Record 30 of Set 5 | sabang\n",
      "Processing Record 31 of Set 5 | kapustin yar-1\n",
      "City not found. Skipping . . .\n",
      "Processing Record 31 of Set 5 | sao jose da coroa grande\n",
      "Processing Record 32 of Set 5 | santo domingo\n",
      "Processing Record 33 of Set 5 | plettenberg bay\n",
      "Processing Record 34 of Set 5 | morehead\n",
      "Processing Record 35 of Set 5 | churapcha\n",
      "Processing Record 36 of Set 5 | katangli\n",
      "Processing Record 37 of Set 5 | cherepovets\n",
      "Processing Record 38 of Set 5 | havoysund\n",
      "Processing Record 39 of Set 5 | beocin\n",
      "Processing Record 40 of Set 5 | plessisville\n",
      "Processing Record 41 of Set 5 | dikson\n",
      "Processing Record 42 of Set 5 | abaete\n",
      "Processing Record 43 of Set 5 | naze\n",
      "Processing Record 44 of Set 5 | port blair\n",
      "Processing Record 45 of Set 5 | hofn\n",
      "Processing Record 46 of Set 5 | rameshki\n",
      "Processing Record 47 of Set 5 | nanortalik\n",
      "Processing Record 48 of Set 5 | quatre cocos\n",
      "Processing Record 49 of Set 5 | coihaique\n",
      "Processing Record 50 of Set 5 | perth\n",
      "Processing Record 1 of Set 6 | muisne\n",
      "Processing Record 2 of Set 6 | perelyub\n",
      "Processing Record 3 of Set 6 | kavaratti\n",
      "Processing Record 4 of Set 6 | santiago\n",
      "Processing Record 5 of Set 6 | goderich\n",
      "Processing Record 6 of Set 6 | lufilufi\n",
      "Processing Record 7 of Set 6 | saint george\n",
      "Processing Record 8 of Set 6 | orotukan\n",
      "Processing Record 9 of Set 6 | hambantota\n",
      "Processing Record 10 of Set 6 | guatire\n",
      "Processing Record 11 of Set 6 | ribeira grande\n",
      "Processing Record 12 of Set 6 | matara\n",
      "Processing Record 13 of Set 6 | betafo\n",
      "Processing Record 14 of Set 6 | manggar\n",
      "Processing Record 15 of Set 6 | hamilton\n",
      "Processing Record 16 of Set 6 | iqaluit\n",
      "Processing Record 17 of Set 6 | sao joao da barra\n",
      "Processing Record 18 of Set 6 | yialos\n",
      "City not found. Skipping . . .\n",
      "Processing Record 18 of Set 6 | latacunga\n",
      "Processing Record 19 of Set 6 | port lincoln\n",
      "Processing Record 20 of Set 6 | tautira\n",
      "Processing Record 21 of Set 6 | leningradskiy\n",
      "Processing Record 22 of Set 6 | hervey bay\n",
      "Processing Record 23 of Set 6 | cidreira\n",
      "Processing Record 24 of Set 6 | ambilobe\n",
      "Processing Record 25 of Set 6 | marawi\n",
      "Processing Record 26 of Set 6 | kadykchan\n",
      "City not found. Skipping . . .\n",
      "Processing Record 26 of Set 6 | biak\n",
      "Processing Record 27 of Set 6 | kutum\n",
      "Processing Record 28 of Set 6 | gornopravdinsk\n",
      "Processing Record 29 of Set 6 | north myrtle beach\n",
      "Processing Record 30 of Set 6 | mutsamudu\n",
      "City not found. Skipping . . .\n",
      "Processing Record 30 of Set 6 | severnoye\n",
      "Processing Record 31 of Set 6 | gilbues\n",
      "Processing Record 32 of Set 6 | abalak\n",
      "Processing Record 33 of Set 6 | bullhead city\n",
      "Processing Record 34 of Set 6 | malaya vishera\n",
      "Processing Record 35 of Set 6 | georgetown\n",
      "Processing Record 36 of Set 6 | bilma\n",
      "Processing Record 37 of Set 6 | mapastepec\n",
      "Processing Record 38 of Set 6 | mazamet\n",
      "Processing Record 39 of Set 6 | jiddah\n",
      "City not found. Skipping . . .\n",
      "Processing Record 39 of Set 6 | marcona\n",
      "City not found. Skipping . . .\n",
      "Processing Record 39 of Set 6 | ndele\n",
      "Processing Record 40 of Set 6 | samusu\n",
      "City not found. Skipping . . .\n",
      "Processing Record 40 of Set 6 | radchenko\n",
      "Processing Record 41 of Set 6 | nanchang\n",
      "Processing Record 42 of Set 6 | saint anthony\n",
      "Processing Record 43 of Set 6 | malpe\n",
      "Processing Record 44 of Set 6 | san carlos de bariloche\n",
      "Processing Record 45 of Set 6 | bonthe\n",
      "Processing Record 46 of Set 6 | raudeberg\n",
      "Processing Record 47 of Set 6 | warmbad\n",
      "Processing Record 48 of Set 6 | corowa\n",
      "Processing Record 49 of Set 6 | lock haven\n",
      "Processing Record 50 of Set 6 | rungata\n",
      "City not found. Skipping . . .\n",
      "Processing Record 50 of Set 6 | litoral del san juan\n",
      "City not found. Skipping . . .\n",
      "Processing Record 50 of Set 6 | aktau\n",
      "Processing Record 1 of Set 7 | dingli\n",
      "Processing Record 2 of Set 7 | san cristobal\n",
      "Processing Record 3 of Set 7 | bonavista\n",
      "Processing Record 4 of Set 7 | rodrigues alves\n",
      "Processing Record 5 of Set 7 | beberibe\n",
      "Processing Record 6 of Set 7 | saint-leu\n",
      "Processing Record 7 of Set 7 | tooele\n",
      "Processing Record 8 of Set 7 | kempsey\n",
      "Processing Record 9 of Set 7 | olinda\n",
      "Processing Record 10 of Set 7 | san jose\n",
      "Processing Record 11 of Set 7 | sarkand\n",
      "Processing Record 12 of Set 7 | nome\n",
      "Processing Record 13 of Set 7 | menongue\n",
      "Processing Record 14 of Set 7 | akyab\n",
      "Processing Record 15 of Set 7 | road town\n",
      "Processing Record 16 of Set 7 | assiniboia\n",
      "Processing Record 17 of Set 7 | jalu\n",
      "Processing Record 18 of Set 7 | sonqor\n",
      "Processing Record 19 of Set 7 | samarai\n",
      "Processing Record 20 of Set 7 | saquena\n",
      "Processing Record 21 of Set 7 | lar gerd\n",
      "City not found. Skipping . . .\n",
      "Processing Record 21 of Set 7 | beyneu\n",
      "Processing Record 22 of Set 7 | meyungs\n",
      "City not found. Skipping . . .\n",
      "Processing Record 22 of Set 7 | ulladulla\n",
      "Processing Record 23 of Set 7 | ferme-neuve\n",
      "Processing Record 24 of Set 7 | firozpur jhirka\n",
      "Processing Record 25 of Set 7 | ngama\n",
      "Processing Record 26 of Set 7 | broome\n",
      "Processing Record 27 of Set 7 | toliary\n",
      "City not found. Skipping . . .\n",
      "Processing Record 27 of Set 7 | bridlington\n",
      "Processing Record 28 of Set 7 | faya\n",
      "Processing Record 29 of Set 7 | denpasar\n"
     ]
    },
    {
     "name": "stdout",
     "output_type": "stream",
     "text": [
      "Processing Record 30 of Set 7 | yangambi\n",
      "Processing Record 31 of Set 7 | huarmey\n",
      "Processing Record 32 of Set 7 | phetchaburi\n",
      "Processing Record 33 of Set 7 | vilcun\n",
      "Processing Record 34 of Set 7 | camana\n",
      "Processing Record 35 of Set 7 | maniitsoq\n",
      "Processing Record 36 of Set 7 | nara\n",
      "Processing Record 37 of Set 7 | airai\n",
      "Processing Record 38 of Set 7 | ust-nera\n",
      "Processing Record 39 of Set 7 | marzuq\n",
      "Processing Record 40 of Set 7 | yulara\n",
      "Processing Record 41 of Set 7 | san patricio\n",
      "Processing Record 42 of Set 7 | taburi\n",
      "City not found. Skipping . . .\n",
      "Processing Record 42 of Set 7 | phan thiet\n",
      "Processing Record 43 of Set 7 | key largo\n",
      "Processing Record 44 of Set 7 | vaitupu\n",
      "City not found. Skipping . . .\n",
      "Processing Record 44 of Set 7 | takoradi\n",
      "Processing Record 45 of Set 7 | tarakan\n",
      "Processing Record 46 of Set 7 | baykit\n",
      "Processing Record 47 of Set 7 | mullaitivu\n",
      "City not found. Skipping . . .\n",
      "Processing Record 47 of Set 7 | flin flon\n",
      "Processing Record 48 of Set 7 | deputatskiy\n",
      "Processing Record 49 of Set 7 | port hardy\n",
      "Processing Record 50 of Set 7 | nyurba\n",
      "Processing Record 1 of Set 8 | roald\n",
      "Processing Record 2 of Set 8 | pula\n",
      "Processing Record 3 of Set 8 | goma\n",
      "Processing Record 4 of Set 8 | batesville\n",
      "Processing Record 5 of Set 8 | kanelovskaya\n",
      "Processing Record 6 of Set 8 | sentyabrskiy\n",
      "City not found. Skipping . . .\n",
      "Processing Record 6 of Set 8 | arrecife\n",
      "Processing Record 7 of Set 8 | greytown\n",
      "Processing Record 8 of Set 8 | saint-augustin\n",
      "Processing Record 9 of Set 8 | manta\n",
      "Processing Record 10 of Set 8 | ushtobe\n",
      "Processing Record 11 of Set 8 | teknaf\n",
      "Processing Record 12 of Set 8 | taltal\n",
      "Processing Record 13 of Set 8 | khonuu\n",
      "City not found. Skipping . . .\n",
      "Processing Record 13 of Set 8 | auki\n",
      "Processing Record 14 of Set 8 | grand river south east\n",
      "City not found. Skipping . . .\n",
      "Processing Record 14 of Set 8 | talnakh\n",
      "Processing Record 15 of Set 8 | pokhara\n",
      "Processing Record 16 of Set 8 | te anau\n",
      "Processing Record 17 of Set 8 | zopilotepe\n",
      "Processing Record 18 of Set 8 | dakar\n",
      "Processing Record 19 of Set 8 | bairiki\n",
      "Processing Record 20 of Set 8 | padang\n",
      "Processing Record 21 of Set 8 | miracema do tocantins\n",
      "Processing Record 22 of Set 8 | krasnoselkup\n",
      "Processing Record 23 of Set 8 | oktyabrskiy\n",
      "Processing Record 24 of Set 8 | innisfail\n",
      "Processing Record 25 of Set 8 | ancud\n",
      "Processing Record 26 of Set 8 | kavieng\n",
      "Processing Record 27 of Set 8 | lagos\n",
      "Processing Record 28 of Set 8 | honiara\n",
      "Processing Record 29 of Set 8 | aykhal\n",
      "Processing Record 30 of Set 8 | la romana\n",
      "Processing Record 31 of Set 8 | mattru\n",
      "Processing Record 32 of Set 8 | divnogorsk\n",
      "Processing Record 33 of Set 8 | mamedkala\n",
      "Processing Record 34 of Set 8 | kargasok\n",
      "Processing Record 35 of Set 8 | lakeland highlands\n",
      "Processing Record 36 of Set 8 | dayong\n",
      "Processing Record 37 of Set 8 | chicama\n",
      "Processing Record 38 of Set 8 | bosaso\n",
      "Processing Record 39 of Set 8 | storforshei\n",
      "Processing Record 40 of Set 8 | cavalcante\n",
      "Processing Record 41 of Set 8 | narva-joesuu\n",
      "Processing Record 42 of Set 8 | emba\n",
      "Processing Record 43 of Set 8 | balad\n",
      "Processing Record 44 of Set 8 | saint peter\n",
      "Processing Record 45 of Set 8 | izazi\n",
      "Processing Record 46 of Set 8 | kralendijk\n",
      "Processing Record 47 of Set 8 | sovetskiy\n",
      "Processing Record 48 of Set 8 | keuruu\n",
      "Processing Record 49 of Set 8 | kihei\n",
      "Processing Record 50 of Set 8 | palencia\n",
      "Processing Record 1 of Set 9 | mbekenyera\n",
      "Processing Record 2 of Set 9 | indramayu\n",
      "Processing Record 3 of Set 9 | oksfjord\n",
      "Processing Record 4 of Set 9 | rawlins\n",
      "Processing Record 5 of Set 9 | kungurtug\n",
      "Processing Record 6 of Set 9 | rabat\n",
      "Processing Record 7 of Set 9 | tateyama\n",
      "Processing Record 8 of Set 9 | yakeshi\n",
      "Processing Record 9 of Set 9 | pekan nenas\n",
      "Processing Record 10 of Set 9 | rawson\n",
      "Processing Record 11 of Set 9 | ouallam\n",
      "Processing Record 12 of Set 9 | goure\n",
      "Processing Record 13 of Set 9 | la ronge\n",
      "Processing Record 14 of Set 9 | abu dhabi\n",
      "Processing Record 15 of Set 9 | xining\n",
      "Processing Record 16 of Set 9 | mareeba\n",
      "Processing Record 17 of Set 9 | guasdualito\n",
      "Processing Record 18 of Set 9 | rantepao\n",
      "Processing Record 19 of Set 9 | hovd\n",
      "Processing Record 20 of Set 9 | puerto del rosario\n",
      "Processing Record 21 of Set 9 | tsienyane\n",
      "City not found. Skipping . . .\n",
      "Processing Record 21 of Set 9 | qazvin\n",
      "Processing Record 22 of Set 9 | ngawen\n",
      "Processing Record 23 of Set 9 | namibe\n",
      "Processing Record 24 of Set 9 | praya\n",
      "Processing Record 25 of Set 9 | zaporizhzhya\n",
      "Processing Record 26 of Set 9 | drumnadrochit\n",
      "Processing Record 27 of Set 9 | novyy svit\n",
      "Processing Record 28 of Set 9 | lempaala\n",
      "Processing Record 29 of Set 9 | soe\n",
      "Processing Record 30 of Set 9 | diffa\n",
      "Processing Record 31 of Set 9 | ilanskiy\n",
      "Processing Record 32 of Set 9 | shchelyayur\n",
      "City not found. Skipping . . .\n",
      "Processing Record 32 of Set 9 | vila velha\n",
      "Processing Record 33 of Set 9 | mweka\n",
      "Processing Record 34 of Set 9 | sharan\n",
      "Processing Record 35 of Set 9 | mugur-aksy\n",
      "Processing Record 36 of Set 9 | colares\n",
      "Processing Record 37 of Set 9 | nalut\n",
      "Processing Record 38 of Set 9 | coahuayana\n",
      "Processing Record 39 of Set 9 | baruun-urt\n",
      "Processing Record 40 of Set 9 | lisakovsk\n",
      "Processing Record 41 of Set 9 | praia\n",
      "Processing Record 42 of Set 9 | gandajika\n",
      "Processing Record 43 of Set 9 | alice springs\n",
      "Processing Record 44 of Set 9 | garm\n",
      "City not found. Skipping . . .\n",
      "Processing Record 44 of Set 9 | vestmannaeyjar\n",
      "Processing Record 45 of Set 9 | gloversville\n",
      "Processing Record 46 of Set 9 | kindu\n",
      "Processing Record 47 of Set 9 | touros\n",
      "Processing Record 48 of Set 9 | obihiro\n",
      "Processing Record 49 of Set 9 | gulshat\n",
      "City not found. Skipping . . .\n",
      "Processing Record 49 of Set 9 | ust-tsilma\n",
      "Processing Record 50 of Set 9 | ribas do rio pardo\n",
      "Processing Record 1 of Set 10 | cairns\n",
      "Processing Record 2 of Set 10 | borogontsy\n",
      "Processing Record 3 of Set 10 | okakarara\n",
      "Processing Record 4 of Set 10 | marsaxlokk\n",
      "Processing Record 5 of Set 10 | santa cruz cabralia\n",
      "Processing Record 6 of Set 10 | sulangan\n",
      "Processing Record 7 of Set 10 | inveraray\n",
      "City not found. Skipping . . .\n",
      "Processing Record 7 of Set 10 | bokoro\n",
      "Processing Record 8 of Set 10 | suao\n",
      "City not found. Skipping . . .\n",
      "Processing Record 8 of Set 10 | kieta\n",
      "Processing Record 9 of Set 10 | cayenne\n",
      "Processing Record 10 of Set 10 | haimen\n",
      "Processing Record 11 of Set 10 | japura\n",
      "Processing Record 12 of Set 10 | hirara\n",
      "Processing Record 13 of Set 10 | riobamba\n",
      "Processing Record 14 of Set 10 | takab\n",
      "Processing Record 15 of Set 10 | kuznechikha\n",
      "Processing Record 16 of Set 10 | ornskoldsvik\n",
      "Processing Record 17 of Set 10 | okha\n",
      "Processing Record 18 of Set 10 | guryevsk\n",
      "Processing Record 19 of Set 10 | gazanjyk\n",
      "Processing Record 20 of Set 10 | flinders\n",
      "Processing Record 21 of Set 10 | nizwa\n",
      "Processing Record 22 of Set 10 | tazovskiy\n",
      "Processing Record 23 of Set 10 | najran\n",
      "Processing Record 24 of Set 10 | labuhan\n",
      "Processing Record 25 of Set 10 | half moon bay\n",
      "Processing Record 26 of Set 10 | tyup\n",
      "Processing Record 27 of Set 10 | luderitz\n",
      "Processing Record 28 of Set 10 | necochea\n",
      "Processing Record 29 of Set 10 | svetlogorsk\n",
      "Processing Record 30 of Set 10 | samalaeulu\n",
      "City not found. Skipping . . .\n",
      "Processing Record 30 of Set 10 | baculin\n",
      "Processing Record 31 of Set 10 | baghdad\n",
      "Processing Record 32 of Set 10 | muriwai beach\n",
      "Processing Record 33 of Set 10 | fortuna\n",
      "Processing Record 34 of Set 10 | sao filipe\n",
      "Processing Record 35 of Set 10 | yirol\n",
      "City not found. Skipping . . .\n",
      "Processing Record 35 of Set 10 | katherine\n",
      "Processing Record 36 of Set 10 | lavrentiya\n",
      "Processing Record 37 of Set 10 | riberalta\n",
      "Processing Record 38 of Set 10 | portland\n",
      "Processing Record 39 of Set 10 | regen\n",
      "Processing Record 40 of Set 10 | grand gaube\n",
      "Processing Record 41 of Set 10 | berlevag\n",
      "Processing Record 42 of Set 10 | konevo\n",
      "Processing Record 43 of Set 10 | ixtapa\n",
      "Processing Record 44 of Set 10 | fevralsk\n",
      "City not found. Skipping . . .\n",
      "Processing Record 44 of Set 10 | acarau\n",
      "Processing Record 45 of Set 10 | san quintin\n",
      "Processing Record 46 of Set 10 | wabag\n",
      "Processing Record 47 of Set 10 | armacao dos buzios\n",
      "City not found. Skipping . . .\n",
      "Processing Record 47 of Set 10 | nizhneyansk\n",
      "City not found. Skipping . . .\n",
      "Processing Record 47 of Set 10 | sakakah\n",
      "Processing Record 48 of Set 10 | durban\n"
     ]
    },
    {
     "name": "stdout",
     "output_type": "stream",
     "text": [
      "Processing Record 49 of Set 10 | taoudenni\n",
      "Processing Record 50 of Set 10 | kahuta\n",
      "Processing Record 1 of Set 11 | jawa\n",
      "Processing Record 2 of Set 11 | seljord\n",
      "Processing Record 3 of Set 11 | saint-francois\n",
      "Processing Record 4 of Set 11 | magaria\n",
      "Processing Record 5 of Set 11 | ulaangom\n",
      "Processing Record 6 of Set 11 | kuche\n",
      "City not found. Skipping . . .\n",
      "Processing Record 6 of Set 11 | rio gallegos\n",
      "Processing Record 7 of Set 11 | bagdarin\n",
      "Processing Record 8 of Set 11 | manaure\n",
      "Processing Record 9 of Set 11 | scottsburgh\n",
      "City not found. Skipping . . .\n",
      "Processing Record 9 of Set 11 | san andres\n",
      "Processing Record 10 of Set 11 | alyangula\n",
      "Processing Record 11 of Set 11 | mrirt\n",
      "City not found. Skipping . . .\n",
      "Processing Record 11 of Set 11 | zharkovskiy\n",
      "Processing Record 12 of Set 11 | sibolga\n",
      "Processing Record 13 of Set 11 | barra\n",
      "Processing Record 14 of Set 11 | komsomolskiy\n",
      "Processing Record 15 of Set 11 | phibun mangsahan\n",
      "Processing Record 16 of Set 11 | gobo\n",
      "Processing Record 17 of Set 11 | korla\n",
      "Processing Record 18 of Set 11 | tampin\n",
      "Processing Record 19 of Set 11 | bulawayo\n",
      "Processing Record 20 of Set 11 | kalmunai\n",
      "Processing Record 21 of Set 11 | laohekou\n",
      "Processing Record 22 of Set 11 | moose factory\n",
      "Processing Record 23 of Set 11 | pundri\n",
      "Processing Record 24 of Set 11 | netrakona\n",
      "Processing Record 25 of Set 11 | arlit\n",
      "Processing Record 26 of Set 11 | kemi\n",
      "Processing Record 27 of Set 11 | blackwater\n",
      "Processing Record 28 of Set 11 | olafsvik\n",
      "Processing Record 29 of Set 11 | sawtell\n",
      "Processing Record 30 of Set 11 | loukisia\n",
      "Processing Record 31 of Set 11 | saryozek\n",
      "Processing Record 32 of Set 11 | xinzhou\n",
      "Processing Record 33 of Set 11 | balykshi\n",
      "Processing Record 34 of Set 11 | yerbogachen\n",
      "Processing Record 35 of Set 11 | behat\n",
      "Processing Record 36 of Set 11 | qui nhon\n",
      " ---------------------------- \n",
      " Data Retrieval Complete \n",
      " ----------------------------\n"
     ]
    }
   ],
   "source": [
    "# Save config information.\n",
    "url = \"http://api.openweathermap.org/data/2.5/weather?\"\n",
    "units = \"imperial\"\n",
    "\n",
    "# Build partial query URL\n",
    "query_url = f\"{url}appid={api_key}&units={units}&q=\"\n",
    "\n",
    "#Create lists for latitude, longitude, temp (F), humidity(%), cloudiness(%), wind speed (mph)\n",
    "lat = []\n",
    "lng = []\n",
    "temp = []\n",
    "hum = []\n",
    "cloud = []\n",
    "wind = []\n",
    "country = []\n",
    "date = []\n",
    "cities_final = []\n",
    "\n",
    "count = 1\n",
    "sets = 1\n",
    "\n",
    "# Loop through the list of cities and perform a request for data on each, catch exceptions\n",
    "print(f'Beginning Data Retrieval \\n -----------------------')\n",
    "for city in cities:\n",
    "    try:\n",
    "        print(f'Processing Record {count} of Set {sets} | {city}' )\n",
    "        response = requests.get(query_url + city).json()\n",
    "        lat.append(response['coord']['lat'])\n",
    "        lng.append(response['coord']['lon'])\n",
    "        temp.append(response['main']['temp_max'])\n",
    "        hum.append(response['main']['humidity'])\n",
    "        cloud.append(response['clouds']['all'])\n",
    "        wind.append(response['wind']['speed'])\n",
    "        country.append(response['sys']['country'])\n",
    "        date.append(response['dt'])\n",
    "        cities_final.append(city)\n",
    "        count = count + 1\n",
    "    except KeyError:\n",
    "        print(f'City not found. Skipping . . .')\n",
    "    if count == 51: # create sets\n",
    "        sets = sets + 1\n",
    "        count = 1 #reset count\n",
    "        \n",
    "print(f' ---------------------------- \\n Data Retrieval Complete \\n ----------------------------')"
   ]
  },
  {
   "cell_type": "markdown",
   "metadata": {},
   "source": [
    "### Convert Raw Data to DataFrame\n",
    "* Export the city data into a .csv.\n",
    "* Display the DataFrame"
   ]
  },
  {
   "cell_type": "code",
   "execution_count": 16,
   "metadata": {},
   "outputs": [
    {
     "data": {
      "text/html": [
       "<div>\n",
       "<style scoped>\n",
       "    .dataframe tbody tr th:only-of-type {\n",
       "        vertical-align: middle;\n",
       "    }\n",
       "\n",
       "    .dataframe tbody tr th {\n",
       "        vertical-align: top;\n",
       "    }\n",
       "\n",
       "    .dataframe thead th {\n",
       "        text-align: right;\n",
       "    }\n",
       "</style>\n",
       "<table border=\"1\" class=\"dataframe\">\n",
       "  <thead>\n",
       "    <tr style=\"text-align: right;\">\n",
       "      <th></th>\n",
       "      <th>City</th>\n",
       "      <th>Lat</th>\n",
       "      <th>Lng</th>\n",
       "      <th>Max Temp</th>\n",
       "      <th>Humidity</th>\n",
       "      <th>Cloudiness</th>\n",
       "      <th>Wind Speed</th>\n",
       "      <th>Country</th>\n",
       "      <th>Date</th>\n",
       "    </tr>\n",
       "  </thead>\n",
       "  <tbody>\n",
       "    <tr>\n",
       "      <th>0</th>\n",
       "      <td>khatanga</td>\n",
       "      <td>71.9667</td>\n",
       "      <td>102.5000</td>\n",
       "      <td>32.76</td>\n",
       "      <td>98</td>\n",
       "      <td>100</td>\n",
       "      <td>19.98</td>\n",
       "      <td>RU</td>\n",
       "      <td>1619220976</td>\n",
       "    </tr>\n",
       "    <tr>\n",
       "      <th>1</th>\n",
       "      <td>garowe</td>\n",
       "      <td>8.4054</td>\n",
       "      <td>48.4845</td>\n",
       "      <td>77.23</td>\n",
       "      <td>73</td>\n",
       "      <td>65</td>\n",
       "      <td>9.57</td>\n",
       "      <td>SO</td>\n",
       "      <td>1619220976</td>\n",
       "    </tr>\n",
       "    <tr>\n",
       "      <th>2</th>\n",
       "      <td>bredasdorp</td>\n",
       "      <td>-34.5322</td>\n",
       "      <td>20.0403</td>\n",
       "      <td>50.00</td>\n",
       "      <td>93</td>\n",
       "      <td>92</td>\n",
       "      <td>4.61</td>\n",
       "      <td>ZA</td>\n",
       "      <td>1619221196</td>\n",
       "    </tr>\n",
       "    <tr>\n",
       "      <th>3</th>\n",
       "      <td>esperance</td>\n",
       "      <td>-33.8667</td>\n",
       "      <td>121.9000</td>\n",
       "      <td>55.40</td>\n",
       "      <td>88</td>\n",
       "      <td>98</td>\n",
       "      <td>9.22</td>\n",
       "      <td>AU</td>\n",
       "      <td>1619220977</td>\n",
       "    </tr>\n",
       "    <tr>\n",
       "      <th>4</th>\n",
       "      <td>yellowknife</td>\n",
       "      <td>62.4560</td>\n",
       "      <td>-114.3525</td>\n",
       "      <td>17.01</td>\n",
       "      <td>57</td>\n",
       "      <td>75</td>\n",
       "      <td>10.36</td>\n",
       "      <td>CA</td>\n",
       "      <td>1619221313</td>\n",
       "    </tr>\n",
       "    <tr>\n",
       "      <th>5</th>\n",
       "      <td>kapaa</td>\n",
       "      <td>22.0752</td>\n",
       "      <td>-159.3190</td>\n",
       "      <td>80.60</td>\n",
       "      <td>61</td>\n",
       "      <td>75</td>\n",
       "      <td>14.97</td>\n",
       "      <td>US</td>\n",
       "      <td>1619220977</td>\n",
       "    </tr>\n",
       "    <tr>\n",
       "      <th>6</th>\n",
       "      <td>lucea</td>\n",
       "      <td>18.4510</td>\n",
       "      <td>-78.1736</td>\n",
       "      <td>82.40</td>\n",
       "      <td>74</td>\n",
       "      <td>20</td>\n",
       "      <td>10.36</td>\n",
       "      <td>JM</td>\n",
       "      <td>1619220977</td>\n",
       "    </tr>\n",
       "    <tr>\n",
       "      <th>7</th>\n",
       "      <td>quirinopolis</td>\n",
       "      <td>-18.4483</td>\n",
       "      <td>-50.4517</td>\n",
       "      <td>69.44</td>\n",
       "      <td>36</td>\n",
       "      <td>0</td>\n",
       "      <td>0.87</td>\n",
       "      <td>BR</td>\n",
       "      <td>1619220977</td>\n",
       "    </tr>\n",
       "    <tr>\n",
       "      <th>8</th>\n",
       "      <td>nelson bay</td>\n",
       "      <td>-32.7167</td>\n",
       "      <td>152.1500</td>\n",
       "      <td>61.00</td>\n",
       "      <td>72</td>\n",
       "      <td>98</td>\n",
       "      <td>13.80</td>\n",
       "      <td>AU</td>\n",
       "      <td>1619220978</td>\n",
       "    </tr>\n",
       "    <tr>\n",
       "      <th>9</th>\n",
       "      <td>ushuaia</td>\n",
       "      <td>-54.8000</td>\n",
       "      <td>-68.3000</td>\n",
       "      <td>41.00</td>\n",
       "      <td>93</td>\n",
       "      <td>75</td>\n",
       "      <td>5.75</td>\n",
       "      <td>AR</td>\n",
       "      <td>1619220747</td>\n",
       "    </tr>\n",
       "  </tbody>\n",
       "</table>\n",
       "</div>"
      ],
      "text/plain": [
       "           City      Lat       Lng  Max Temp  Humidity  Cloudiness  \\\n",
       "0      khatanga  71.9667  102.5000     32.76        98         100   \n",
       "1        garowe   8.4054   48.4845     77.23        73          65   \n",
       "2    bredasdorp -34.5322   20.0403     50.00        93          92   \n",
       "3     esperance -33.8667  121.9000     55.40        88          98   \n",
       "4   yellowknife  62.4560 -114.3525     17.01        57          75   \n",
       "5         kapaa  22.0752 -159.3190     80.60        61          75   \n",
       "6         lucea  18.4510  -78.1736     82.40        74          20   \n",
       "7  quirinopolis -18.4483  -50.4517     69.44        36           0   \n",
       "8    nelson bay -32.7167  152.1500     61.00        72          98   \n",
       "9       ushuaia -54.8000  -68.3000     41.00        93          75   \n",
       "\n",
       "   Wind Speed Country        Date  \n",
       "0       19.98      RU  1619220976  \n",
       "1        9.57      SO  1619220976  \n",
       "2        4.61      ZA  1619221196  \n",
       "3        9.22      AU  1619220977  \n",
       "4       10.36      CA  1619221313  \n",
       "5       14.97      US  1619220977  \n",
       "6       10.36      JM  1619220977  \n",
       "7        0.87      BR  1619220977  \n",
       "8       13.80      AU  1619220978  \n",
       "9        5.75      AR  1619220747  "
      ]
     },
     "execution_count": 16,
     "metadata": {},
     "output_type": "execute_result"
    }
   ],
   "source": [
    "#create dictionary\n",
    "city_dict = {\n",
    "    \"City\": cities_final,\n",
    "    \"Lat\": lat,\n",
    "    \"Lng\": lng,\n",
    "    \"Max Temp\": temp,\n",
    "    \"Humidity\": hum,\n",
    "    \"Cloudiness\": cloud,\n",
    "    \"Wind Speed\": wind,\n",
    "    \"Country\": country,\n",
    "    \"Date\": date\n",
    "}\n",
    "#convert to pandas dataframe\n",
    "city_df = pd.DataFrame(city_dict)\n",
    "#export to csv\n",
    "city_df.to_csv(\"weatherpy.csv\", index=False)\n",
    "\n",
    "#display dataframe\n",
    "city_df.head(10)"
   ]
  },
  {
   "cell_type": "code",
   "execution_count": 17,
   "metadata": {},
   "outputs": [
    {
     "data": {
      "text/html": [
       "<div>\n",
       "<style scoped>\n",
       "    .dataframe tbody tr th:only-of-type {\n",
       "        vertical-align: middle;\n",
       "    }\n",
       "\n",
       "    .dataframe tbody tr th {\n",
       "        vertical-align: top;\n",
       "    }\n",
       "\n",
       "    .dataframe thead th {\n",
       "        text-align: right;\n",
       "    }\n",
       "</style>\n",
       "<table border=\"1\" class=\"dataframe\">\n",
       "  <thead>\n",
       "    <tr style=\"text-align: right;\">\n",
       "      <th></th>\n",
       "      <th>Lat</th>\n",
       "      <th>Lng</th>\n",
       "      <th>Max Temp</th>\n",
       "      <th>Humidity</th>\n",
       "      <th>Cloudiness</th>\n",
       "      <th>Wind Speed</th>\n",
       "      <th>Date</th>\n",
       "    </tr>\n",
       "  </thead>\n",
       "  <tbody>\n",
       "    <tr>\n",
       "      <th>count</th>\n",
       "      <td>536.000000</td>\n",
       "      <td>536.000000</td>\n",
       "      <td>536.000000</td>\n",
       "      <td>536.000000</td>\n",
       "      <td>536.000000</td>\n",
       "      <td>536.000000</td>\n",
       "      <td>5.360000e+02</td>\n",
       "    </tr>\n",
       "    <tr>\n",
       "      <th>mean</th>\n",
       "      <td>19.903357</td>\n",
       "      <td>20.681267</td>\n",
       "      <td>59.725299</td>\n",
       "      <td>69.703358</td>\n",
       "      <td>52.458955</td>\n",
       "      <td>7.943041</td>\n",
       "      <td>1.619221e+09</td>\n",
       "    </tr>\n",
       "    <tr>\n",
       "      <th>std</th>\n",
       "      <td>33.636628</td>\n",
       "      <td>89.714152</td>\n",
       "      <td>19.399982</td>\n",
       "      <td>22.523086</td>\n",
       "      <td>37.233968</td>\n",
       "      <td>5.346525</td>\n",
       "      <td>1.258650e+02</td>\n",
       "    </tr>\n",
       "    <tr>\n",
       "      <th>min</th>\n",
       "      <td>-54.800000</td>\n",
       "      <td>-179.166700</td>\n",
       "      <td>6.100000</td>\n",
       "      <td>6.000000</td>\n",
       "      <td>0.000000</td>\n",
       "      <td>0.430000</td>\n",
       "      <td>1.619221e+09</td>\n",
       "    </tr>\n",
       "    <tr>\n",
       "      <th>25%</th>\n",
       "      <td>-8.675550</td>\n",
       "      <td>-58.931775</td>\n",
       "      <td>44.600000</td>\n",
       "      <td>59.000000</td>\n",
       "      <td>19.750000</td>\n",
       "      <td>3.755000</td>\n",
       "      <td>1.619221e+09</td>\n",
       "    </tr>\n",
       "    <tr>\n",
       "      <th>50%</th>\n",
       "      <td>21.478900</td>\n",
       "      <td>24.664450</td>\n",
       "      <td>62.010000</td>\n",
       "      <td>75.000000</td>\n",
       "      <td>53.000000</td>\n",
       "      <td>6.910000</td>\n",
       "      <td>1.619221e+09</td>\n",
       "    </tr>\n",
       "    <tr>\n",
       "      <th>75%</th>\n",
       "      <td>47.932175</td>\n",
       "      <td>100.707400</td>\n",
       "      <td>77.000000</td>\n",
       "      <td>87.000000</td>\n",
       "      <td>90.000000</td>\n",
       "      <td>11.020000</td>\n",
       "      <td>1.619221e+09</td>\n",
       "    </tr>\n",
       "    <tr>\n",
       "      <th>max</th>\n",
       "      <td>78.218600</td>\n",
       "      <td>179.316700</td>\n",
       "      <td>91.990000</td>\n",
       "      <td>100.000000</td>\n",
       "      <td>100.000000</td>\n",
       "      <td>32.390000</td>\n",
       "      <td>1.619221e+09</td>\n",
       "    </tr>\n",
       "  </tbody>\n",
       "</table>\n",
       "</div>"
      ],
      "text/plain": [
       "              Lat         Lng    Max Temp    Humidity  Cloudiness  Wind Speed  \\\n",
       "count  536.000000  536.000000  536.000000  536.000000  536.000000  536.000000   \n",
       "mean    19.903357   20.681267   59.725299   69.703358   52.458955    7.943041   \n",
       "std     33.636628   89.714152   19.399982   22.523086   37.233968    5.346525   \n",
       "min    -54.800000 -179.166700    6.100000    6.000000    0.000000    0.430000   \n",
       "25%     -8.675550  -58.931775   44.600000   59.000000   19.750000    3.755000   \n",
       "50%     21.478900   24.664450   62.010000   75.000000   53.000000    6.910000   \n",
       "75%     47.932175  100.707400   77.000000   87.000000   90.000000   11.020000   \n",
       "max     78.218600  179.316700   91.990000  100.000000  100.000000   32.390000   \n",
       "\n",
       "               Date  \n",
       "count  5.360000e+02  \n",
       "mean   1.619221e+09  \n",
       "std    1.258650e+02  \n",
       "min    1.619221e+09  \n",
       "25%    1.619221e+09  \n",
       "50%    1.619221e+09  \n",
       "75%    1.619221e+09  \n",
       "max    1.619221e+09  "
      ]
     },
     "execution_count": 17,
     "metadata": {},
     "output_type": "execute_result"
    }
   ],
   "source": [
    "#summary stats\n",
    "city_df.describe()"
   ]
  },
  {
   "cell_type": "markdown",
   "metadata": {},
   "source": [
    "## Inspect the data and remove the cities where the humidity > 100%.\n",
    "----\n",
    "Skip this step if there are no cities that have humidity > 100%. "
   ]
  },
  {
   "cell_type": "code",
   "execution_count": 23,
   "metadata": {},
   "outputs": [
    {
     "name": "stdout",
     "output_type": "stream",
     "text": [
      "Empty DataFrame\n",
      "Columns: [City, Lat, Lng, Max Temp, Humidity, Cloudiness, Wind Speed, Country, Date]\n",
      "Index: []\n",
      "The maximum humidity measure in the dataset is 100\n"
     ]
    }
   ],
   "source": [
    "print(city_df[city_df['Humidity']>100])\n",
    "print(f'The maximum humidity measure in the dataset is {max(city_df[\"Humidity\"])}')"
   ]
  },
  {
   "cell_type": "code",
   "execution_count": 17,
   "metadata": {},
   "outputs": [
    {
     "data": {
      "text/plain": [
       "Int64Index([], dtype='int64')"
      ]
     },
     "execution_count": 17,
     "metadata": {},
     "output_type": "execute_result"
    }
   ],
   "source": [
    "#  Get the indices of cities that have humidity over 100%.\n",
    "# skip"
   ]
  },
  {
   "cell_type": "code",
   "execution_count": 19,
   "metadata": {},
   "outputs": [
    {
     "data": {
      "text/html": [
       "<div>\n",
       "<style scoped>\n",
       "    .dataframe tbody tr th:only-of-type {\n",
       "        vertical-align: middle;\n",
       "    }\n",
       "\n",
       "    .dataframe tbody tr th {\n",
       "        vertical-align: top;\n",
       "    }\n",
       "\n",
       "    .dataframe thead th {\n",
       "        text-align: right;\n",
       "    }\n",
       "</style>\n",
       "<table border=\"1\" class=\"dataframe\">\n",
       "  <thead>\n",
       "    <tr style=\"text-align: right;\">\n",
       "      <th></th>\n",
       "      <th>City</th>\n",
       "      <th>Lat</th>\n",
       "      <th>Lng</th>\n",
       "      <th>Max Temp</th>\n",
       "      <th>Humidity</th>\n",
       "      <th>Cloudiness</th>\n",
       "      <th>Wind Speed</th>\n",
       "      <th>Country</th>\n",
       "      <th>Date</th>\n",
       "    </tr>\n",
       "  </thead>\n",
       "  <tbody>\n",
       "    <tr>\n",
       "      <td>0</td>\n",
       "      <td>butaritari</td>\n",
       "      <td>3.07</td>\n",
       "      <td>172.79</td>\n",
       "      <td>83.32</td>\n",
       "      <td>74</td>\n",
       "      <td>84</td>\n",
       "      <td>10.42</td>\n",
       "      <td>KI</td>\n",
       "      <td>1593605283</td>\n",
       "    </tr>\n",
       "    <tr>\n",
       "      <td>1</td>\n",
       "      <td>yerbogachen</td>\n",
       "      <td>61.28</td>\n",
       "      <td>108.01</td>\n",
       "      <td>79.52</td>\n",
       "      <td>58</td>\n",
       "      <td>20</td>\n",
       "      <td>7.70</td>\n",
       "      <td>RU</td>\n",
       "      <td>1593605121</td>\n",
       "    </tr>\n",
       "    <tr>\n",
       "      <td>2</td>\n",
       "      <td>cape town</td>\n",
       "      <td>-33.93</td>\n",
       "      <td>18.42</td>\n",
       "      <td>73.00</td>\n",
       "      <td>77</td>\n",
       "      <td>27</td>\n",
       "      <td>4.70</td>\n",
       "      <td>ZA</td>\n",
       "      <td>1593605039</td>\n",
       "    </tr>\n",
       "    <tr>\n",
       "      <td>3</td>\n",
       "      <td>touba</td>\n",
       "      <td>8.28</td>\n",
       "      <td>-7.68</td>\n",
       "      <td>79.97</td>\n",
       "      <td>75</td>\n",
       "      <td>82</td>\n",
       "      <td>3.58</td>\n",
       "      <td>CI</td>\n",
       "      <td>1593605284</td>\n",
       "    </tr>\n",
       "    <tr>\n",
       "      <td>4</td>\n",
       "      <td>jamestown</td>\n",
       "      <td>42.10</td>\n",
       "      <td>-79.24</td>\n",
       "      <td>64.00</td>\n",
       "      <td>88</td>\n",
       "      <td>1</td>\n",
       "      <td>6.93</td>\n",
       "      <td>US</td>\n",
       "      <td>1593605284</td>\n",
       "    </tr>\n",
       "  </tbody>\n",
       "</table>\n",
       "</div>"
      ],
      "text/plain": [
       "          City    Lat     Lng  Max Temp  Humidity  Cloudiness  Wind Speed  \\\n",
       "0   butaritari   3.07  172.79     83.32        74          84       10.42   \n",
       "1  yerbogachen  61.28  108.01     79.52        58          20        7.70   \n",
       "2    cape town -33.93   18.42     73.00        77          27        4.70   \n",
       "3        touba   8.28   -7.68     79.97        75          82        3.58   \n",
       "4    jamestown  42.10  -79.24     64.00        88           1        6.93   \n",
       "\n",
       "  Country        Date  \n",
       "0      KI  1593605283  \n",
       "1      RU  1593605121  \n",
       "2      ZA  1593605039  \n",
       "3      CI  1593605284  \n",
       "4      US  1593605284  "
      ]
     },
     "execution_count": 19,
     "metadata": {},
     "output_type": "execute_result"
    }
   ],
   "source": [
    "# Make a new DataFrame equal to the city data to drop all humidity outliers by index.\n",
    "# Passing \"inplace=False\" will make a copy of the city_data DataFrame, which we call \"clean_city_data\".\n",
    "# skip"
   ]
  },
  {
   "cell_type": "markdown",
   "metadata": {},
   "source": [
    "## Plotting the Data\n",
    "* Use proper labeling of the plots using plot titles (including date of analysis) and axes labels.\n",
    "* Save the plotted figures as .pngs."
   ]
  },
  {
   "cell_type": "markdown",
   "metadata": {},
   "source": [
    "## Latitude vs. Temperature Plot"
   ]
  },
  {
   "cell_type": "code",
   "execution_count": 35,
   "metadata": {
    "scrolled": true
   },
   "outputs": [
    {
     "data": {
      "image/png": "[encoded data removed]",
      "text/plain": [
       "<Figure size 432x288 with 1 Axes>"
      ]
     },
     "metadata": {
      "needs_background": "light"
     },
     "output_type": "display_data"
    }
   ],
   "source": [
    "#scatterplot latitude vs. max temp\n",
    "x_values = city_df['Lat']\n",
    "y_values = city_df['Max Temp']\n",
    "y_ticks = np.arange(-20, 120, 20)\n",
    "x_ticks = np.arange(-60, 100, 20)\n",
    "\n",
    "#plot\n",
    "plt.scatter(x_values,y_values, marker=\"o\", c=\"#28668a\", edgecolors=\"black\")\n",
    "#labels\n",
    "plt.title('City Latitude vs. Max Temperature (04/23/21)')\n",
    "plt.xlabel('Latitude')\n",
    "plt.ylabel('Max Temperature (F)')\n",
    "plt.xticks(x_ticks)\n",
    "plt.yticks(y_ticks)\n",
    "plt.grid()\n",
    "\n",
    "plt.tight_layout()\n",
    "#save as png\n",
    "plt.savefig(\"images/lat_vs_maxtemp.png\")\n",
    "\n",
    "#show plot\n",
    "plt.show()"
   ]
  },
  {
   "cell_type": "markdown",
   "metadata": {},
   "source": [
    "## Latitude vs. Humidity Plot"
   ]
  },
  {
   "cell_type": "code",
   "execution_count": 36,
   "metadata": {},
   "outputs": [
    {
     "data": {
      "image/png": "[encoded data removed]",
      "text/plain": [
       "<Figure size 432x288 with 1 Axes>"
      ]
     },
     "metadata": {
      "needs_background": "light"
     },
     "output_type": "display_data"
    }
   ],
   "source": [
    "#scatterplot latitude vs. humidity\n",
    "x_values = city_df['Lat']\n",
    "y_values = city_df['Humidity']\n",
    "y_ticks = np.arange(0, 120, 20)\n",
    "x_ticks = np.arange(-60, 100, 20)\n",
    "\n",
    "#plot\n",
    "plt.scatter(x_values,y_values, marker=\"o\", c=\"#28668a\", edgecolors=\"black\")\n",
    "#labels\n",
    "plt.title('City Latitude vs. Humidity (04/23/21)')\n",
    "plt.xlabel('Latitude')\n",
    "plt.ylabel('Humidity (%)')\n",
    "plt.xticks(x_ticks)\n",
    "plt.yticks(y_ticks)\n",
    "plt.grid()\n",
    "\n",
    "plt.tight_layout()\n",
    "#save as png\n",
    "plt.savefig(\"images/lat_vs_humidity.png\")\n",
    "\n",
    "#show plot\n",
    "plt.show()"
   ]
  },
  {
   "cell_type": "markdown",
   "metadata": {},
   "source": [
    "## Latitude vs. Cloudiness Plot"
   ]
  },
  {
   "cell_type": "code",
   "execution_count": 37,
   "metadata": {},
   "outputs": [
    {
     "data": {
      "image/png": "[encoded data removed]",
      "text/plain": [
       "<Figure size 432x288 with 1 Axes>"
      ]
     },
     "metadata": {
      "needs_background": "light"
     },
     "output_type": "display_data"
    }
   ],
   "source": [
    "#scatterplot latitude vs. humidity\n",
    "x_values = city_df['Lat']\n",
    "y_values = city_df['Cloudiness']\n",
    "y_ticks = np.arange(0, 120, 20)\n",
    "x_ticks = np.arange(-60, 100, 20)\n",
    "\n",
    "#plot\n",
    "plt.scatter(x_values,y_values, marker=\"o\", c=\"#28668a\", edgecolors=\"black\")\n",
    "#labels\n",
    "plt.title('City Latitude vs. Cloudiness (04/23/21)')\n",
    "plt.xlabel('Latitude')\n",
    "plt.ylabel('Cloudiness (%)')\n",
    "plt.xticks(x_ticks)\n",
    "plt.yticks(y_ticks)\n",
    "plt.grid()\n",
    "\n",
    "plt.tight_layout()\n",
    "#save as png\n",
    "plt.savefig(\"images/lat_vs_cloudiness.png\")\n",
    "\n",
    "#show plot\n",
    "plt.show()"
   ]
  },
  {
   "cell_type": "markdown",
   "metadata": {},
   "source": [
    "## Latitude vs. Wind Speed Plot"
   ]
  },
  {
   "cell_type": "code",
   "execution_count": 40,
   "metadata": {},
   "outputs": [
    {
     "data": {
      "image/png": "[encoded data removed]",
      "text/plain": [
       "<Figure size 432x288 with 1 Axes>"
      ]
     },
     "metadata": {
      "needs_background": "light"
     },
     "output_type": "display_data"
    }
   ],
   "source": [
    "#scatterplot latitude vs. humidity\n",
    "x_values = city_df['Lat']\n",
    "y_values = city_df['Wind Speed']\n",
    "y_ticks = np.arange(0, 50, 10)\n",
    "x_ticks = np.arange(-60, 100, 20)\n",
    "\n",
    "#plot\n",
    "plt.scatter(x_values,y_values, marker=\"o\", c=\"#28668a\", edgecolors=\"black\")\n",
    "#labels\n",
    "plt.title('City Latitude vs. Wind Speed (04/23/21)')\n",
    "plt.xlabel('Latitude')\n",
    "plt.ylabel('Wind Speed (mph)')\n",
    "plt.xticks(x_ticks)\n",
    "plt.yticks(y_ticks)\n",
    "plt.grid()\n",
    "\n",
    "plt.tight_layout()\n",
    "#save as png\n",
    "plt.savefig(\"images/lat_vs_cloudiness.png\")\n",
    "\n",
    "#show plot\n",
    "plt.show()"
   ]
  },
  {
   "cell_type": "markdown",
   "metadata": {},
   "source": [
    "## Linear Regression"
   ]
  },
  {
   "cell_type": "code",
   "execution_count": 24,
   "metadata": {},
   "outputs": [],
   "source": []
  },
  {
   "cell_type": "markdown",
   "metadata": {},
   "source": [
    "####  Northern Hemisphere - Max Temp vs. Latitude Linear Regression"
   ]
  },
  {
   "cell_type": "code",
   "execution_count": 25,
   "metadata": {},
   "outputs": [
    {
     "name": "stdout",
     "output_type": "stream",
     "text": [
      "The r-value is: 0.46937863826630627\n"
     ]
    },
    {
     "data": {
      "image/png": "[encoded data removed]",
      "text/plain": [
       "<Figure size 432x288 with 1 Axes>"
      ]
     },
     "metadata": {
      "needs_background": "light"
     },
     "output_type": "display_data"
    }
   ],
   "source": []
  },
  {
   "cell_type": "markdown",
   "metadata": {},
   "source": [
    "####  Southern Hemisphere - Max Temp vs. Latitude Linear Regression"
   ]
  },
  {
   "cell_type": "code",
   "execution_count": 26,
   "metadata": {},
   "outputs": [
    {
     "name": "stdout",
     "output_type": "stream",
     "text": [
      "The r-value is: 0.6082708688906918\n"
     ]
    },
    {
     "data": {
      "image/png": "[encoded data removed]",
      "text/plain": [
       "<Figure size 432x288 with 1 Axes>"
      ]
     },
     "metadata": {
      "needs_background": "light"
     },
     "output_type": "display_data"
    }
   ],
   "source": []
  },
  {
   "cell_type": "markdown",
   "metadata": {},
   "source": [
    "####  Northern Hemisphere - Humidity (%) vs. Latitude Linear Regression"
   ]
  },
  {
   "cell_type": "code",
   "execution_count": 27,
   "metadata": {},
   "outputs": [
    {
     "name": "stdout",
     "output_type": "stream",
     "text": [
      "The r-value is: 0.000543987878808455\n"
     ]
    },
    {
     "data": {
      "image/png": "[encoded data removed]",
      "text/plain": [
       "<Figure size 432x288 with 1 Axes>"
      ]
     },
     "metadata": {
      "needs_background": "light"
     },
     "output_type": "display_data"
    }
   ],
   "source": []
  },
  {
   "cell_type": "markdown",
   "metadata": {},
   "source": [
    "####  Southern Hemisphere - Humidity (%) vs. Latitude Linear Regression"
   ]
  },
  {
   "cell_type": "code",
   "execution_count": 28,
   "metadata": {},
   "outputs": [
    {
     "name": "stdout",
     "output_type": "stream",
     "text": [
      "The r-value is: 0.014985174297345524\n"
     ]
    },
    {
     "data": {
      "image/png": "[encoded data removed]",
      "text/plain": [
       "<Figure size 432x288 with 1 Axes>"
      ]
     },
     "metadata": {
      "needs_background": "light"
     },
     "output_type": "display_data"
    }
   ],
   "source": []
  },
  {
   "cell_type": "markdown",
   "metadata": {},
   "source": [
    "####  Northern Hemisphere - Cloudiness (%) vs. Latitude Linear Regression"
   ]
  },
  {
   "cell_type": "code",
   "execution_count": 29,
   "metadata": {},
   "outputs": [
    {
     "name": "stdout",
     "output_type": "stream",
     "text": [
      "The r-value is: 0.0020898727664228514\n"
     ]
    },
    {
     "data": {
      "image/png": "[encoded data removed]",
      "text/plain": [
       "<Figure size 432x288 with 1 Axes>"
      ]
     },
     "metadata": {
      "needs_background": "light"
     },
     "output_type": "display_data"
    }
   ],
   "source": []
  },
  {
   "cell_type": "markdown",
   "metadata": {},
   "source": [
    "####  Southern Hemisphere - Cloudiness (%) vs. Latitude Linear Regression"
   ]
  },
  {
   "cell_type": "code",
   "execution_count": 30,
   "metadata": {},
   "outputs": [
    {
     "name": "stdout",
     "output_type": "stream",
     "text": [
      "The r-value is: 0.0035263772085582894\n"
     ]
    },
    {
     "data": {
      "image/png": "[encoded data removed]",
      "text/plain": [
       "<Figure size 432x288 with 1 Axes>"
      ]
     },
     "metadata": {
      "needs_background": "light"
     },
     "output_type": "display_data"
    }
   ],
   "source": []
  },
  {
   "cell_type": "markdown",
   "metadata": {},
   "source": [
    "####  Northern Hemisphere - Wind Speed (mph) vs. Latitude Linear Regression"
   ]
  },
  {
   "cell_type": "code",
   "execution_count": 31,
   "metadata": {},
   "outputs": [
    {
     "name": "stdout",
     "output_type": "stream",
     "text": [
      "The r-value is: 0.04019723576144484\n"
     ]
    },
    {
     "data": {
      "image/png": "[encoded data removed]",
      "text/plain": [
       "<Figure size 432x288 with 1 Axes>"
      ]
     },
     "metadata": {
      "needs_background": "light"
     },
     "output_type": "display_data"
    }
   ],
   "source": []
  },
  {
   "cell_type": "markdown",
   "metadata": {},
   "source": [
    "####  Southern Hemisphere - Wind Speed (mph) vs. Latitude Linear Regression"
   ]
  },
  {
   "cell_type": "code",
   "execution_count": 32,
   "metadata": {},
   "outputs": [
    {
     "name": "stdout",
     "output_type": "stream",
     "text": [
      "The r-value is: 0.017128274759839232\n"
     ]
    },
    {
     "data": {
      "image/png": "[encoded data removed]",
      "text/plain": [
       "<Figure size 432x288 with 1 Axes>"
      ]
     },
     "metadata": {
      "needs_background": "light"
     },
     "output_type": "display_data"
    }
   ],
   "source": []
  },
  {
   "cell_type": "code",
   "execution_count": null,
   "metadata": {},
   "outputs": [],
   "source": []
  }
 ],
 "metadata": {
  "anaconda-cloud": {},
  "kernel_info": {
   "name": "python3"
  },
  "kernelspec": {
   "display_name": "Python 3",
   "language": "python",
   "name": "python3"
  },
  "language_info": {
   "codemirror_mode": {
    "name": "ipython",
    "version": 3
   },
   "file_extension": ".py",
   "mimetype": "text/x-python",
   "name": "python",
   "nbconvert_exporter": "python",
   "pygments_lexer": "ipython3",
   "version": "3.9.4"
  },
  "latex_envs": {
   "LaTeX_envs_menu_present": true,
   "autoclose": false,
   "autocomplete": true,
   "bibliofile": "biblio.bib",
   "cite_by": "apalike",
   "current_citInitial": 1,
   "eqLabelWithNumbers": true,
   "eqNumInitial": 1,
   "hotkeys": {
    "equation": "Ctrl-E",
    "itemize": "Ctrl-I"
   },
   "labels_anchors": false,
   "latex_user_defs": false,
   "report_style_numbering": false,
   "user_envs_cfg": false
  },
  "nteract": {
   "version": "0.12.3"
  }
 },
 "nbformat": 4,
 "nbformat_minor": 4
}
