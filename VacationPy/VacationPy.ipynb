{
 "cells": [
  {
   "cell_type": "markdown",
   "metadata": {},
   "source": [
    "# VacationPy\n",
    "----\n",
    "\n",
    "#### Note\n",
    "* Keep an eye on your API usage. Use https://developers.google.com/maps/reporting/gmp-reporting as reference for how to monitor your usage and billing.\n",
    "\n",
    "* Instructions have been included for each segment. You do not have to follow them exactly, but they are included to help you think through the steps."
   ]
  },
  {
   "cell_type": "code",
   "execution_count": 2,
   "metadata": {},
   "outputs": [],
   "source": [
    "# Dependencies and Setup\n",
    "import matplotlib.pyplot as plt\n",
    "import pandas as pd\n",
    "import numpy as np\n",
    "import requests\n",
    "import gmaps\n",
    "import os\n",
    "\n",
    "# Import API key\n",
    "from config import api_key"
   ]
  },
  {
   "cell_type": "markdown",
   "metadata": {},
   "source": [
    "### Store Part I results into DataFrame\n",
    "* Load the csv exported in Part I to a DataFrame"
   ]
  },
  {
   "cell_type": "code",
   "execution_count": 3,
   "metadata": {},
   "outputs": [],
   "source": [
    "#specify path\n",
    "path = \"../WeatherPy/output_data/cities.csv\"\n",
    "#import csv file from part 1\n",
    "city_df = pd.read_csv(path)"
   ]
  },
  {
   "cell_type": "markdown",
   "metadata": {},
   "source": [
    "### Humidity Heatmap\n",
    "* Configure gmaps.\n",
    "* Use the Lat and Lng as locations and Humidity as the weight.\n",
    "* Add Heatmap layer to map."
   ]
  },
  {
   "cell_type": "code",
   "execution_count": 4,
   "metadata": {},
   "outputs": [],
   "source": [
    "# Access maps with unique API key\n",
    "gmaps.configure(api_key=api_key)"
   ]
  },
  {
   "cell_type": "code",
   "execution_count": 6,
   "metadata": {},
   "outputs": [
    {
     "data": {
      "application/vnd.jupyter.widget-view+json": {
       "model_id": "7cf341b07cde47eb865195f4db97b6b0",
       "version_major": 2,
       "version_minor": 0
      },
      "text/plain": [
       "Figure(layout=FigureLayout(height='420px'))"
      ]
     },
     "metadata": {},
     "output_type": "display_data"
    }
   ],
   "source": [
    "#store lat and lng into locations\n",
    "locations = city_df[['Lat','Lng']].astype(float)\n",
    "#convert humidity to float\n",
    "humidity = city_df['Humidity'].astype(float)\n",
    "\n",
    "#heatmap\n",
    "fig = gmaps.figure()\n",
    "heat_layer = gmaps.heatmap_layer(locations, weights=humidity)\n",
    "fig.add_layer(heat_layer)\n",
    "fig"
   ]
  },
  {
   "cell_type": "markdown",
   "metadata": {},
   "source": [
    "### Create new DataFrame fitting weather criteria\n",
    "* Narrow down the cities to fit weather conditions.\n",
    "* Drop any rows will null values."
   ]
  },
  {
   "cell_type": "code",
   "execution_count": 7,
   "metadata": {},
   "outputs": [
    {
     "data": {
      "text/html": [
       "<div>\n",
       "<style scoped>\n",
       "    .dataframe tbody tr th:only-of-type {\n",
       "        vertical-align: middle;\n",
       "    }\n",
       "\n",
       "    .dataframe tbody tr th {\n",
       "        vertical-align: top;\n",
       "    }\n",
       "\n",
       "    .dataframe thead th {\n",
       "        text-align: right;\n",
       "    }\n",
       "</style>\n",
       "<table border=\"1\" class=\"dataframe\">\n",
       "  <thead>\n",
       "    <tr style=\"text-align: right;\">\n",
       "      <th></th>\n",
       "      <th>City</th>\n",
       "      <th>Lat</th>\n",
       "      <th>Lng</th>\n",
       "      <th>Max Temp</th>\n",
       "      <th>Humidity</th>\n",
       "      <th>Cloudiness</th>\n",
       "      <th>Wind Speed</th>\n",
       "      <th>Country</th>\n",
       "      <th>Date</th>\n",
       "    </tr>\n",
       "  </thead>\n",
       "  <tbody>\n",
       "    <tr>\n",
       "      <th>0</th>\n",
       "      <td>khatanga</td>\n",
       "      <td>71.9667</td>\n",
       "      <td>102.5000</td>\n",
       "      <td>32.76</td>\n",
       "      <td>98</td>\n",
       "      <td>100</td>\n",
       "      <td>19.98</td>\n",
       "      <td>RU</td>\n",
       "      <td>1619220976</td>\n",
       "    </tr>\n",
       "    <tr>\n",
       "      <th>1</th>\n",
       "      <td>garowe</td>\n",
       "      <td>8.4054</td>\n",
       "      <td>48.4845</td>\n",
       "      <td>77.23</td>\n",
       "      <td>73</td>\n",
       "      <td>65</td>\n",
       "      <td>9.57</td>\n",
       "      <td>SO</td>\n",
       "      <td>1619220976</td>\n",
       "    </tr>\n",
       "    <tr>\n",
       "      <th>2</th>\n",
       "      <td>bredasdorp</td>\n",
       "      <td>-34.5322</td>\n",
       "      <td>20.0403</td>\n",
       "      <td>50.00</td>\n",
       "      <td>93</td>\n",
       "      <td>92</td>\n",
       "      <td>4.61</td>\n",
       "      <td>ZA</td>\n",
       "      <td>1619221196</td>\n",
       "    </tr>\n",
       "    <tr>\n",
       "      <th>3</th>\n",
       "      <td>esperance</td>\n",
       "      <td>-33.8667</td>\n",
       "      <td>121.9000</td>\n",
       "      <td>55.40</td>\n",
       "      <td>88</td>\n",
       "      <td>98</td>\n",
       "      <td>9.22</td>\n",
       "      <td>AU</td>\n",
       "      <td>1619220977</td>\n",
       "    </tr>\n",
       "    <tr>\n",
       "      <th>4</th>\n",
       "      <td>yellowknife</td>\n",
       "      <td>62.4560</td>\n",
       "      <td>-114.3525</td>\n",
       "      <td>17.01</td>\n",
       "      <td>57</td>\n",
       "      <td>75</td>\n",
       "      <td>10.36</td>\n",
       "      <td>CA</td>\n",
       "      <td>1619221313</td>\n",
       "    </tr>\n",
       "  </tbody>\n",
       "</table>\n",
       "</div>"
      ],
      "text/plain": [
       "          City      Lat       Lng  Max Temp  Humidity  Cloudiness  Wind Speed  \\\n",
       "0     khatanga  71.9667  102.5000     32.76        98         100       19.98   \n",
       "1       garowe   8.4054   48.4845     77.23        73          65        9.57   \n",
       "2   bredasdorp -34.5322   20.0403     50.00        93          92        4.61   \n",
       "3    esperance -33.8667  121.9000     55.40        88          98        9.22   \n",
       "4  yellowknife  62.4560 -114.3525     17.01        57          75       10.36   \n",
       "\n",
       "  Country        Date  \n",
       "0      RU  1619220976  \n",
       "1      SO  1619220976  \n",
       "2      ZA  1619221196  \n",
       "3      AU  1619220977  \n",
       "4      CA  1619221313  "
      ]
     },
     "execution_count": 7,
     "metadata": {},
     "output_type": "execute_result"
    }
   ],
   "source": [
    "city_df.head()"
   ]
  },
  {
   "cell_type": "code",
   "execution_count": 12,
   "metadata": {},
   "outputs": [
    {
     "data": {
      "text/html": [
       "<div>\n",
       "<style scoped>\n",
       "    .dataframe tbody tr th:only-of-type {\n",
       "        vertical-align: middle;\n",
       "    }\n",
       "\n",
       "    .dataframe tbody tr th {\n",
       "        vertical-align: top;\n",
       "    }\n",
       "\n",
       "    .dataframe thead th {\n",
       "        text-align: right;\n",
       "    }\n",
       "</style>\n",
       "<table border=\"1\" class=\"dataframe\">\n",
       "  <thead>\n",
       "    <tr style=\"text-align: right;\">\n",
       "      <th></th>\n",
       "      <th>City</th>\n",
       "      <th>Lat</th>\n",
       "      <th>Lng</th>\n",
       "      <th>Max Temp</th>\n",
       "      <th>Humidity</th>\n",
       "      <th>Cloudiness</th>\n",
       "      <th>Wind Speed</th>\n",
       "      <th>Country</th>\n",
       "      <th>Date</th>\n",
       "    </tr>\n",
       "  </thead>\n",
       "  <tbody>\n",
       "    <tr>\n",
       "      <th>454</th>\n",
       "      <td>santa cruz cabralia</td>\n",
       "      <td>-16.2781</td>\n",
       "      <td>-39.0247</td>\n",
       "      <td>78.8</td>\n",
       "      <td>69</td>\n",
       "      <td>0</td>\n",
       "      <td>6.91</td>\n",
       "      <td>BR</td>\n",
       "      <td>1619221082</td>\n",
       "    </tr>\n",
       "    <tr>\n",
       "      <th>459</th>\n",
       "      <td>haimen</td>\n",
       "      <td>23.1935</td>\n",
       "      <td>116.6142</td>\n",
       "      <td>73.4</td>\n",
       "      <td>73</td>\n",
       "      <td>0</td>\n",
       "      <td>4.47</td>\n",
       "      <td>CN</td>\n",
       "      <td>1619221085</td>\n",
       "    </tr>\n",
       "    <tr>\n",
       "      <th>472</th>\n",
       "      <td>najran</td>\n",
       "      <td>17.4924</td>\n",
       "      <td>44.1277</td>\n",
       "      <td>71.6</td>\n",
       "      <td>24</td>\n",
       "      <td>0</td>\n",
       "      <td>2.68</td>\n",
       "      <td>SA</td>\n",
       "      <td>1619221088</td>\n",
       "    </tr>\n",
       "    <tr>\n",
       "      <th>496</th>\n",
       "      <td>sakakah</td>\n",
       "      <td>29.9697</td>\n",
       "      <td>40.2064</td>\n",
       "      <td>77.0</td>\n",
       "      <td>13</td>\n",
       "      <td>0</td>\n",
       "      <td>9.22</td>\n",
       "      <td>SA</td>\n",
       "      <td>1619221094</td>\n",
       "    </tr>\n",
       "  </tbody>\n",
       "</table>\n",
       "</div>"
      ],
      "text/plain": [
       "                    City      Lat       Lng  Max Temp  Humidity  Cloudiness  \\\n",
       "454  santa cruz cabralia -16.2781  -39.0247      78.8        69           0   \n",
       "459               haimen  23.1935  116.6142      73.4        73           0   \n",
       "472               najran  17.4924   44.1277      71.6        24           0   \n",
       "496              sakakah  29.9697   40.2064      77.0        13           0   \n",
       "\n",
       "     Wind Speed Country        Date  \n",
       "454        6.91      BR  1619221082  \n",
       "459        4.47      CN  1619221085  \n",
       "472        2.68      SA  1619221088  \n",
       "496        9.22      SA  1619221094  "
      ]
     },
     "execution_count": 12,
     "metadata": {},
     "output_type": "execute_result"
    }
   ],
   "source": [
    "#drop null values (shouldn't be any)\n",
    "reduced_df = city_df.dropna(axis=0, how='all')\n",
    "#subset to weather conditions\n",
    "##max temp lower than 80\n",
    "##max temp greater than 70\n",
    "##wind speed less than 10\n",
    "##zero cloudiness\n",
    "reduced_df = reduced_df[(reduced_df['Max Temp']<80) & (reduced_df['Max Temp']>70) & (reduced_df['Wind Speed']<10) & (reduced_df['Cloudiness']==0)]    \n",
    "reduced_df"
   ]
  },
  {
   "cell_type": "markdown",
   "metadata": {},
   "source": [
    "### Hotel Map\n",
    "* Store into variable named `hotel_df`.\n",
    "* Add a \"Hotel Name\" column to the DataFrame.\n",
    "* Set parameters to search for hotels with 5000 meters.\n",
    "* Hit the Google Places API for each city's coordinates.\n",
    "* Store the first Hotel result into the DataFrame.\n",
    "* Plot markers on top of the heatmap."
   ]
  },
  {
   "cell_type": "code",
   "execution_count": null,
   "metadata": {},
   "outputs": [],
   "source": []
  },
  {
   "cell_type": "code",
   "execution_count": null,
   "metadata": {},
   "outputs": [],
   "source": []
  },
  {
   "cell_type": "code",
   "execution_count": null,
   "metadata": {},
   "outputs": [],
   "source": [
    "# NOTE: Do not change any of the code in this cell\n",
    "\n",
    "# Using the template add the hotel marks to the heatmap\n",
    "info_box_template = \"\"\"\n",
    "<dl>\n",
    "<dt>Name</dt><dd>{Hotel Name}</dd>\n",
    "<dt>City</dt><dd>{City}</dd>\n",
    "<dt>Country</dt><dd>{Country}</dd>\n",
    "</dl>\n",
    "\"\"\"\n",
    "# Store the DataFrame Row\n",
    "# NOTE: be sure to update with your DataFrame name\n",
    "hotel_info = [info_box_template.format(**row) for index, row in hotel_df.iterrows()]\n",
    "locations = hotel_df[[\"Lat\", \"Lng\"]]"
   ]
  },
  {
   "cell_type": "code",
   "execution_count": null,
   "metadata": {},
   "outputs": [],
   "source": [
    "# Add marker layer ontop of heat map\n",
    "\n",
    "\n",
    "# Display figure\n"
   ]
  },
  {
   "cell_type": "code",
   "execution_count": null,
   "metadata": {},
   "outputs": [],
   "source": []
  }
 ],
 "metadata": {
  "kernelspec": {
   "display_name": "Python 3",
   "language": "python",
   "name": "python3"
  },
  "language_info": {
   "codemirror_mode": {
    "name": "ipython",
    "version": 3
   },
   "file_extension": ".py",
   "mimetype": "text/x-python",
   "name": "python",
   "nbconvert_exporter": "python",
   "pygments_lexer": "ipython3",
   "version": "3.9.4"
  },
  "latex_envs": {
   "LaTeX_envs_menu_present": true,
   "autoclose": false,
   "autocomplete": true,
   "bibliofile": "biblio.bib",
   "cite_by": "apalike",
   "current_citInitial": 1,
   "eqLabelWithNumbers": true,
   "eqNumInitial": 1,
   "hotkeys": {
    "equation": "Ctrl-E",
    "itemize": "Ctrl-I"
   },
   "labels_anchors": false,
   "latex_user_defs": false,
   "report_style_numbering": false,
   "user_envs_cfg": false
  }
 },
 "nbformat": 4,
 "nbformat_minor": 4
}
