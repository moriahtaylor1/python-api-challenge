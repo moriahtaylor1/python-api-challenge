{
 "cells": [
  {
   "cell_type": "markdown",
   "metadata": {},
   "source": [
    "# VacationPy\n",
    "### Moriah Taylor\n",
    "#### April 24, 2021"
   ]
  },
  {
   "cell_type": "code",
   "execution_count": 8,
   "metadata": {},
   "outputs": [],
   "source": [
    "# Dependencies and Setup\n",
    "import matplotlib.pyplot as plt\n",
    "import pandas as pd\n",
    "import numpy as np\n",
    "import requests\n",
    "import gmaps\n",
    "import os\n",
    "# ignore warnings\n",
    "import warnings\n",
    "warnings.filterwarnings('ignore')\n",
    "\n",
    "# Import API key\n",
    "from config import api_key"
   ]
  },
  {
   "cell_type": "markdown",
   "metadata": {},
   "source": [
    "### Store Part I results into DataFrame"
   ]
  },
  {
   "cell_type": "code",
   "execution_count": 2,
   "metadata": {},
   "outputs": [],
   "source": [
    "#specify path\n",
    "path = \"../WeatherPy/output_data/cities.csv\"\n",
    "#import csv file from part 1\n",
    "city_df = pd.read_csv(path)"
   ]
  },
  {
   "cell_type": "markdown",
   "metadata": {},
   "source": [
    "### Humidity Heatmap"
   ]
  },
  {
   "cell_type": "code",
   "execution_count": 3,
   "metadata": {},
   "outputs": [],
   "source": [
    "# Access maps with unique API key\n",
    "gmaps.configure(api_key=api_key)"
   ]
  },
  {
   "cell_type": "code",
   "execution_count": 4,
   "metadata": {},
   "outputs": [
    {
     "data": {
      "application/vnd.jupyter.widget-view+json": {
       "model_id": "56602822f8c14be989b2b7dcf3bcd88e",
       "version_major": 2,
       "version_minor": 0
      },
      "text/plain": [
       "Figure(layout=FigureLayout(height='420px'))"
      ]
     },
     "metadata": {},
     "output_type": "display_data"
    }
   ],
   "source": [
    "#store lat and lng into locations\n",
    "locations = city_df[['Lat','Lng']].astype(float)\n",
    "#convert humidity to float\n",
    "humidity = city_df['Humidity'].astype(float)\n",
    "\n",
    "#heatmap\n",
    "fig = gmaps.figure()\n",
    "heat_layer = gmaps.heatmap_layer(locations, weights=humidity)\n",
    "fig.add_layer(heat_layer)\n",
    "fig"
   ]
  },
  {
   "cell_type": "markdown",
   "metadata": {},
   "source": [
    "### Create new DataFrame fitting weather criteria"
   ]
  },
  {
   "cell_type": "code",
   "execution_count": 5,
   "metadata": {},
   "outputs": [
    {
     "data": {
      "text/html": [
       "<div>\n",
       "<style scoped>\n",
       "    .dataframe tbody tr th:only-of-type {\n",
       "        vertical-align: middle;\n",
       "    }\n",
       "\n",
       "    .dataframe tbody tr th {\n",
       "        vertical-align: top;\n",
       "    }\n",
       "\n",
       "    .dataframe thead th {\n",
       "        text-align: right;\n",
       "    }\n",
       "</style>\n",
       "<table border=\"1\" class=\"dataframe\">\n",
       "  <thead>\n",
       "    <tr style=\"text-align: right;\">\n",
       "      <th></th>\n",
       "      <th>City</th>\n",
       "      <th>Lat</th>\n",
       "      <th>Lng</th>\n",
       "      <th>Max Temp</th>\n",
       "      <th>Humidity</th>\n",
       "      <th>Cloudiness</th>\n",
       "      <th>Wind Speed</th>\n",
       "      <th>Country</th>\n",
       "      <th>Date</th>\n",
       "    </tr>\n",
       "  </thead>\n",
       "  <tbody>\n",
       "    <tr>\n",
       "      <th>454</th>\n",
       "      <td>santa cruz cabralia</td>\n",
       "      <td>-16.2781</td>\n",
       "      <td>-39.0247</td>\n",
       "      <td>78.8</td>\n",
       "      <td>69</td>\n",
       "      <td>0</td>\n",
       "      <td>6.91</td>\n",
       "      <td>BR</td>\n",
       "      <td>1619221082</td>\n",
       "    </tr>\n",
       "    <tr>\n",
       "      <th>459</th>\n",
       "      <td>haimen</td>\n",
       "      <td>23.1935</td>\n",
       "      <td>116.6142</td>\n",
       "      <td>73.4</td>\n",
       "      <td>73</td>\n",
       "      <td>0</td>\n",
       "      <td>4.47</td>\n",
       "      <td>CN</td>\n",
       "      <td>1619221085</td>\n",
       "    </tr>\n",
       "    <tr>\n",
       "      <th>472</th>\n",
       "      <td>najran</td>\n",
       "      <td>17.4924</td>\n",
       "      <td>44.1277</td>\n",
       "      <td>71.6</td>\n",
       "      <td>24</td>\n",
       "      <td>0</td>\n",
       "      <td>2.68</td>\n",
       "      <td>SA</td>\n",
       "      <td>1619221088</td>\n",
       "    </tr>\n",
       "    <tr>\n",
       "      <th>496</th>\n",
       "      <td>sakakah</td>\n",
       "      <td>29.9697</td>\n",
       "      <td>40.2064</td>\n",
       "      <td>77.0</td>\n",
       "      <td>13</td>\n",
       "      <td>0</td>\n",
       "      <td>9.22</td>\n",
       "      <td>SA</td>\n",
       "      <td>1619221094</td>\n",
       "    </tr>\n",
       "  </tbody>\n",
       "</table>\n",
       "</div>"
      ],
      "text/plain": [
       "                    City      Lat       Lng  Max Temp  Humidity  Cloudiness  \\\n",
       "454  santa cruz cabralia -16.2781  -39.0247      78.8        69           0   \n",
       "459               haimen  23.1935  116.6142      73.4        73           0   \n",
       "472               najran  17.4924   44.1277      71.6        24           0   \n",
       "496              sakakah  29.9697   40.2064      77.0        13           0   \n",
       "\n",
       "     Wind Speed Country        Date  \n",
       "454        6.91      BR  1619221082  \n",
       "459        4.47      CN  1619221085  \n",
       "472        2.68      SA  1619221088  \n",
       "496        9.22      SA  1619221094  "
      ]
     },
     "execution_count": 5,
     "metadata": {},
     "output_type": "execute_result"
    }
   ],
   "source": [
    "#drop null values (shouldn't be any)\n",
    "reduced_df = city_df.dropna(axis=0, how='all')\n",
    "#subset to weather conditions\n",
    "##max temp lower than 80\n",
    "##max temp greater than 70\n",
    "##wind speed less than 10\n",
    "##zero cloudiness\n",
    "reduced_df = reduced_df[(reduced_df['Max Temp']<80) & (reduced_df['Max Temp']>70) & (reduced_df['Wind Speed']<10) & (reduced_df['Cloudiness']==0)]    \n",
    "reduced_df"
   ]
  },
  {
   "cell_type": "markdown",
   "metadata": {},
   "source": [
    "### Hotel Map"
   ]
  },
  {
   "cell_type": "code",
   "execution_count": 9,
   "metadata": {},
   "outputs": [],
   "source": [
    "#create hotel df\n",
    "hotel_df = reduced_df[['City', 'Country', 'Lat', 'Lng']]\n",
    "hotel_df['Hotel Name'] = \"\""
   ]
  },
  {
   "cell_type": "code",
   "execution_count": 15,
   "metadata": {},
   "outputs": [
    {
     "name": "stdout",
     "output_type": "stream",
     "text": [
      "Results for index 454: santa cruz cabralia.\n",
      "Campo Bahia\n",
      "----------\n",
      "Results for index 459: haimen.\n",
      "Results not found.\n",
      "----------\n",
      "Results for index 472: najran.\n",
      "Results not found.\n",
      "----------\n",
      "Results for index 496: sakakah.\n",
      "Raoum Inn Hotel\n",
      "----------\n",
      "-------Done--------\n"
     ]
    }
   ],
   "source": [
    "# find the closest hotel within 5000 meters of city coordinates\n",
    "base_url = \"https://maps.googleapis.com/maps/api/place/nearbysearch/json\"\n",
    "\n",
    "#Create for loop to go through each row\n",
    "for i, row in hotel_df.iterrows():\n",
    "    lat = row[\"Lat\"]\n",
    "    lng = row[\"Lng\"]\n",
    "    city = row[\"City\"]\n",
    "    \n",
    "    params = {\n",
    "        \"location\": f\"{lat},{lng}\",\n",
    "        \"keyword\": \"hotel\",\n",
    "        \"radius\": 5000,\n",
    "        \"key\": api_key\n",
    "    }\n",
    "    \n",
    "    response = requests.get(base_url, params=params)\n",
    "    places_data = response.json()\n",
    "    \n",
    "    print(f\"Results for index {i}: {city}.\")\n",
    "    \n",
    "    try:\n",
    "        print(places_data[\"results\"][0]['name'])\n",
    "        hotel_df.loc[i, \"Hotel Name\"] = places_data[\"results\"][0]['name']\n",
    "        \n",
    "    except (KeyError, IndexError):\n",
    "        hotel_df.loc[i, \"Hotel Name\"] = \"NA\"\n",
    "        print(\"Results not found.\")\n",
    "        \n",
    "    print(\"----------\")\n",
    "print(\"-------Done--------\")"
   ]
  },
  {
   "cell_type": "code",
   "execution_count": 22,
   "metadata": {},
   "outputs": [
    {
     "data": {
      "text/html": [
       "<div>\n",
       "<style scoped>\n",
       "    .dataframe tbody tr th:only-of-type {\n",
       "        vertical-align: middle;\n",
       "    }\n",
       "\n",
       "    .dataframe tbody tr th {\n",
       "        vertical-align: top;\n",
       "    }\n",
       "\n",
       "    .dataframe thead th {\n",
       "        text-align: right;\n",
       "    }\n",
       "</style>\n",
       "<table border=\"1\" class=\"dataframe\">\n",
       "  <thead>\n",
       "    <tr style=\"text-align: right;\">\n",
       "      <th></th>\n",
       "      <th>City</th>\n",
       "      <th>Country</th>\n",
       "      <th>Lat</th>\n",
       "      <th>Lng</th>\n",
       "      <th>Hotel Name</th>\n",
       "    </tr>\n",
       "  </thead>\n",
       "  <tbody>\n",
       "    <tr>\n",
       "      <th>454</th>\n",
       "      <td>Santa Cruz Cabralia</td>\n",
       "      <td>BR</td>\n",
       "      <td>-16.2781</td>\n",
       "      <td>-39.0247</td>\n",
       "      <td>Campo Bahia</td>\n",
       "    </tr>\n",
       "    <tr>\n",
       "      <th>459</th>\n",
       "      <td>Haimen</td>\n",
       "      <td>CN</td>\n",
       "      <td>23.1935</td>\n",
       "      <td>116.6142</td>\n",
       "      <td>NaN</td>\n",
       "    </tr>\n",
       "    <tr>\n",
       "      <th>472</th>\n",
       "      <td>Najran</td>\n",
       "      <td>SA</td>\n",
       "      <td>17.4924</td>\n",
       "      <td>44.1277</td>\n",
       "      <td>NaN</td>\n",
       "    </tr>\n",
       "    <tr>\n",
       "      <th>496</th>\n",
       "      <td>Sakakah</td>\n",
       "      <td>SA</td>\n",
       "      <td>29.9697</td>\n",
       "      <td>40.2064</td>\n",
       "      <td>Raoum Inn Hotel</td>\n",
       "    </tr>\n",
       "  </tbody>\n",
       "</table>\n",
       "</div>"
      ],
      "text/plain": [
       "                    City Country      Lat       Lng       Hotel Name\n",
       "454  Santa Cruz Cabralia      BR -16.2781  -39.0247      Campo Bahia\n",
       "459               Haimen      CN  23.1935  116.6142              NaN\n",
       "472               Najran      SA  17.4924   44.1277              NaN\n",
       "496              Sakakah      SA  29.9697   40.2064  Raoum Inn Hotel"
      ]
     },
     "execution_count": 22,
     "metadata": {},
     "output_type": "execute_result"
    }
   ],
   "source": [
    "#capitalize city names to make better-looking markers\n",
    "hotel_df['City'] = ['Santa Cruz Cabralia', 'Haimen', 'Najran', 'Sakakah']  #easier/faster than doing str.split() and str.capitalize()\n",
    "hotel_df.head()"
   ]
  },
  {
   "cell_type": "code",
   "execution_count": 25,
   "metadata": {},
   "outputs": [],
   "source": [
    "# NOTE: Do not change any of the code in this cell\n",
    "\n",
    "# Using the template add the hotel marks to the heatmap\n",
    "info_box_template = \"\"\"\n",
    "<dl>\n",
    "<dt>Hotel Name</dt><dd>{Hotel Name}</dd>\n",
    "<dt>City</dt><dd>{City}</dd>\n",
    "<dt>Country</dt><dd>{Country}</dd>\n",
    "</dl>\n",
    "\"\"\"\n",
    "# Store the DataFrame Row\n",
    "# NOTE: be sure to update with your DataFrame name\n",
    "hotel_info = [info_box_template.format(**row) for index, row in hotel_df.iterrows()]\n",
    "locations = hotel_df[[\"Lat\", \"Lng\"]]"
   ]
  },
  {
   "cell_type": "code",
   "execution_count": 26,
   "metadata": {},
   "outputs": [
    {
     "data": {
      "application/vnd.jupyter.widget-view+json": {
       "model_id": "56602822f8c14be989b2b7dcf3bcd88e",
       "version_major": 2,
       "version_minor": 0
      },
      "text/plain": [
       "Figure(layout=FigureLayout(height='420px'))"
      ]
     },
     "metadata": {},
     "output_type": "display_data"
    }
   ],
   "source": [
    "# Add marker layer ontop of heat map\n",
    "markers = gmaps.marker_layer(locations, info_box_content=hotel_info)\n",
    "\n",
    "# Display figure\n",
    "fig.add_layer(markers)\n",
    "fig"
   ]
  }
 ],
 "metadata": {
  "kernelspec": {
   "display_name": "Python 3",
   "language": "python",
   "name": "python3"
  },
  "language_info": {
   "codemirror_mode": {
    "name": "ipython",
    "version": 3
   },
   "file_extension": ".py",
   "mimetype": "text/x-python",
   "name": "python",
   "nbconvert_exporter": "python",
   "pygments_lexer": "ipython3",
   "version": "3.9.4"
  },
  "latex_envs": {
   "LaTeX_envs_menu_present": true,
   "autoclose": false,
   "autocomplete": true,
   "bibliofile": "biblio.bib",
   "cite_by": "apalike",
   "current_citInitial": 1,
   "eqLabelWithNumbers": true,
   "eqNumInitial": 1,
   "hotkeys": {
    "equation": "Ctrl-E",
    "itemize": "Ctrl-I"
   },
   "labels_anchors": false,
   "latex_user_defs": false,
   "report_style_numbering": false,
   "user_envs_cfg": false
  }
 },
 "nbformat": 4,
 "nbformat_minor": 4
}
