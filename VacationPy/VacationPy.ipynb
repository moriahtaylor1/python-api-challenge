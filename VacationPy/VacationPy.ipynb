{
 "cells": [
  {
   "cell_type": "markdown",
   "metadata": {},
   "source": [
    "# VacationPy\n",
    "### Moriah Taylor\n",
    "#### April 24, 2021"
   ]
  },
  {
   "cell_type": "code",
   "execution_count": 1,
   "metadata": {},
   "outputs": [],
   "source": [
    "# Dependencies and Setup\n",
    "import matplotlib.pyplot as plt\n",
    "import pandas as pd\n",
    "import numpy as np\n",
    "import requests\n",
    "import gmaps\n",
    "import os\n",
    "# ignore warnings\n",
    "import warnings\n",
    "warnings.filterwarnings('ignore')\n",
    "\n",
    "# Import API key\n",
    "from config import api_key"
   ]
  },
  {
   "cell_type": "markdown",
   "metadata": {},
   "source": [
    "### Store Part I results into DataFrame"
   ]
  },
  {
   "cell_type": "code",
   "execution_count": 2,
   "metadata": {},
   "outputs": [],
   "source": [
    "#specify path\n",
    "path = \"../WeatherPy/output_data/cities.csv\"\n",
    "#import csv file from part 1\n",
    "city_df = pd.read_csv(path)"
   ]
  },
  {
   "cell_type": "markdown",
   "metadata": {},
   "source": [
    "### Humidity Heatmap"
   ]
  },
  {
   "cell_type": "code",
   "execution_count": 3,
   "metadata": {},
   "outputs": [],
   "source": [
    "# Access maps with unique API key\n",
    "gmaps.configure(api_key=api_key)"
   ]
  },
  {
   "cell_type": "code",
   "execution_count": 12,
   "metadata": {},
   "outputs": [
    {
     "data": {
      "application/vnd.jupyter.widget-view+json": {
       "model_id": "1069cf6b1aab40aba7114976f0039cc1",
       "version_major": 2,
       "version_minor": 0
      },
      "text/plain": [
       "Figure(layout=FigureLayout(height='420px'))"
      ]
     },
     "metadata": {},
     "output_type": "display_data"
    }
   ],
   "source": [
    "#store lat and lng into locations\n",
    "locations = city_df[['Lat','Lng']].astype(float)\n",
    "#convert humidity to float\n",
    "humidity = city_df['Humidity'].astype(float)\n",
    "#assign max humidity to variable\n",
    "max_humidity = max(humidity)\n",
    "\n",
    "#heatmap\n",
    "fig = gmaps.figure()\n",
    "heat_layer = gmaps.heatmap_layer(locations, weights=humidity, max_intensity=max_humidity)\n",
    "fig.add_layer(heat_layer)\n",
    "fig"
   ]
  },
  {
   "cell_type": "markdown",
   "metadata": {},
   "source": [
    "### Create new DataFrame Fitting My Idea Weather Criteria\n",
    "My ideal weather is warm to hot, moderate humidity, low wind speed, and light cloudiness, so I subset to these conditions."
   ]
  },
  {
   "cell_type": "code",
   "execution_count": 13,
   "metadata": {},
   "outputs": [
    {
     "data": {
      "text/html": [
       "<div>\n",
       "<style scoped>\n",
       "    .dataframe tbody tr th:only-of-type {\n",
       "        vertical-align: middle;\n",
       "    }\n",
       "\n",
       "    .dataframe tbody tr th {\n",
       "        vertical-align: top;\n",
       "    }\n",
       "\n",
       "    .dataframe thead th {\n",
       "        text-align: right;\n",
       "    }\n",
       "</style>\n",
       "<table border=\"1\" class=\"dataframe\">\n",
       "  <thead>\n",
       "    <tr style=\"text-align: right;\">\n",
       "      <th></th>\n",
       "      <th>City</th>\n",
       "      <th>Lat</th>\n",
       "      <th>Lng</th>\n",
       "      <th>Max Temp</th>\n",
       "      <th>Humidity</th>\n",
       "      <th>Cloudiness</th>\n",
       "      <th>Wind Speed</th>\n",
       "      <th>Country</th>\n",
       "      <th>Date</th>\n",
       "    </tr>\n",
       "  </thead>\n",
       "  <tbody>\n",
       "    <tr>\n",
       "      <th>58</th>\n",
       "      <td>hithadhoo</td>\n",
       "      <td>-0.6000</td>\n",
       "      <td>73.0833</td>\n",
       "      <td>82.80</td>\n",
       "      <td>69</td>\n",
       "      <td>25</td>\n",
       "      <td>8.01</td>\n",
       "      <td>MV</td>\n",
       "      <td>1619304876</td>\n",
       "    </tr>\n",
       "    <tr>\n",
       "      <th>150</th>\n",
       "      <td>batticaloa</td>\n",
       "      <td>7.7102</td>\n",
       "      <td>81.6924</td>\n",
       "      <td>78.85</td>\n",
       "      <td>80</td>\n",
       "      <td>22</td>\n",
       "      <td>2.84</td>\n",
       "      <td>LK</td>\n",
       "      <td>1619304897</td>\n",
       "    </tr>\n",
       "    <tr>\n",
       "      <th>246</th>\n",
       "      <td>uarini</td>\n",
       "      <td>-2.9900</td>\n",
       "      <td>-65.1083</td>\n",
       "      <td>84.20</td>\n",
       "      <td>74</td>\n",
       "      <td>20</td>\n",
       "      <td>4.61</td>\n",
       "      <td>BR</td>\n",
       "      <td>1619304924</td>\n",
       "    </tr>\n",
       "    <tr>\n",
       "      <th>348</th>\n",
       "      <td>singaraja</td>\n",
       "      <td>-8.1120</td>\n",
       "      <td>115.0882</td>\n",
       "      <td>78.62</td>\n",
       "      <td>80</td>\n",
       "      <td>11</td>\n",
       "      <td>4.52</td>\n",
       "      <td>ID</td>\n",
       "      <td>1619304947</td>\n",
       "    </tr>\n",
       "    <tr>\n",
       "      <th>363</th>\n",
       "      <td>namatanai</td>\n",
       "      <td>-3.6667</td>\n",
       "      <td>152.4333</td>\n",
       "      <td>83.46</td>\n",
       "      <td>71</td>\n",
       "      <td>30</td>\n",
       "      <td>7.94</td>\n",
       "      <td>PG</td>\n",
       "      <td>1619304925</td>\n",
       "    </tr>\n",
       "    <tr>\n",
       "      <th>438</th>\n",
       "      <td>bonthe</td>\n",
       "      <td>7.5264</td>\n",
       "      <td>-12.5050</td>\n",
       "      <td>81.01</td>\n",
       "      <td>78</td>\n",
       "      <td>13</td>\n",
       "      <td>8.46</td>\n",
       "      <td>SL</td>\n",
       "      <td>1619304969</td>\n",
       "    </tr>\n",
       "    <tr>\n",
       "      <th>447</th>\n",
       "      <td>mahajanga</td>\n",
       "      <td>-15.7167</td>\n",
       "      <td>46.3167</td>\n",
       "      <td>77.00</td>\n",
       "      <td>78</td>\n",
       "      <td>20</td>\n",
       "      <td>3.44</td>\n",
       "      <td>MG</td>\n",
       "      <td>1619304970</td>\n",
       "    </tr>\n",
       "  </tbody>\n",
       "</table>\n",
       "</div>"
      ],
      "text/plain": [
       "           City      Lat       Lng  Max Temp  Humidity  Cloudiness  \\\n",
       "58    hithadhoo  -0.6000   73.0833     82.80        69          25   \n",
       "150  batticaloa   7.7102   81.6924     78.85        80          22   \n",
       "246      uarini  -2.9900  -65.1083     84.20        74          20   \n",
       "348   singaraja  -8.1120  115.0882     78.62        80          11   \n",
       "363   namatanai  -3.6667  152.4333     83.46        71          30   \n",
       "438      bonthe   7.5264  -12.5050     81.01        78          13   \n",
       "447   mahajanga -15.7167   46.3167     77.00        78          20   \n",
       "\n",
       "     Wind Speed Country        Date  \n",
       "58         8.01      MV  1619304876  \n",
       "150        2.84      LK  1619304897  \n",
       "246        4.61      BR  1619304924  \n",
       "348        4.52      ID  1619304947  \n",
       "363        7.94      PG  1619304925  \n",
       "438        8.46      SL  1619304969  \n",
       "447        3.44      MG  1619304970  "
      ]
     },
     "execution_count": 13,
     "metadata": {},
     "output_type": "execute_result"
    }
   ],
   "source": [
    "#drop null values (shouldn't be any)\n",
    "reduced_df = city_df.dropna(axis=0, how='all')\n",
    "#subset to my ideal weather conditions\n",
    "reduced_df = reduced_df[(reduced_df['Max Temp']<100) & (reduced_df['Max Temp']>=75) & \n",
    "                        (reduced_df['Humidity']<=80) & (reduced_df['Humidity']>=40) &\n",
    "                        (reduced_df['Wind Speed']<=10) & \n",
    "                        (reduced_df['Cloudiness']<=30) & (reduced_df['Cloudiness']>10)]    \n",
    "reduced_df"
   ]
  },
  {
   "cell_type": "markdown",
   "metadata": {},
   "source": [
    "### Hotel Map"
   ]
  },
  {
   "cell_type": "code",
   "execution_count": 14,
   "metadata": {},
   "outputs": [],
   "source": [
    "#create hotel df\n",
    "hotel_df = reduced_df[['City', 'Country', 'Lat', 'Lng']]\n",
    "hotel_df['Hotel Name'] = \"\""
   ]
  },
  {
   "cell_type": "code",
   "execution_count": 15,
   "metadata": {},
   "outputs": [
    {
     "name": "stdout",
     "output_type": "stream",
     "text": [
      "Results for index 58: hithadhoo.\n",
      "Abuharee Grand\n",
      "----------\n",
      "Results for index 150: batticaloa.\n",
      "Hotel East Lagoon\n",
      "----------\n",
      "Results for index 246: uarini.\n",
      "Results not found.\n",
      "----------\n",
      "Results for index 348: singaraja.\n",
      "Puri Bagus Lovina Resort\n",
      "----------\n",
      "Results for index 363: namatanai.\n",
      "Namatanai Hotel\n",
      "----------\n",
      "Results for index 438: bonthe.\n",
      "Bonthe Holiday Village\n",
      "----------\n",
      "Results for index 447: mahajanga.\n",
      "Baobab Tree Hotel & Spa\n",
      "----------\n",
      "-------Done--------\n"
     ]
    }
   ],
   "source": [
    "# find the closest hotel within 5000 meters of city coordinates\n",
    "base_url = \"https://maps.googleapis.com/maps/api/place/nearbysearch/json\"\n",
    "\n",
    "#Create for loop to go through each row\n",
    "for i, row in hotel_df.iterrows():\n",
    "    lat = row[\"Lat\"]\n",
    "    lng = row[\"Lng\"]\n",
    "    city = row[\"City\"]\n",
    "    \n",
    "    params = {\n",
    "        \"location\": f\"{lat},{lng}\",\n",
    "        \"keyword\": \"hotel\",\n",
    "        \"radius\": 5000,\n",
    "        \"key\": api_key\n",
    "    }\n",
    "    \n",
    "    response = requests.get(base_url, params=params)\n",
    "    places_data = response.json()\n",
    "    \n",
    "    print(f\"Results for index {i}: {city}.\")\n",
    "    \n",
    "    try:\n",
    "        print(places_data[\"results\"][0]['name'])\n",
    "        hotel_df.loc[i, \"Hotel Name\"] = places_data[\"results\"][0]['name']\n",
    "        \n",
    "    except (KeyError, IndexError):\n",
    "        hotel_df.loc[i, \"Hotel Name\"] = \"NA\"\n",
    "        print(\"Results not found.\")\n",
    "        \n",
    "    print(\"----------\")\n",
    "print(\"-------Done--------\")"
   ]
  },
  {
   "cell_type": "code",
   "execution_count": 17,
   "metadata": {},
   "outputs": [
    {
     "data": {
      "text/html": [
       "<div>\n",
       "<style scoped>\n",
       "    .dataframe tbody tr th:only-of-type {\n",
       "        vertical-align: middle;\n",
       "    }\n",
       "\n",
       "    .dataframe tbody tr th {\n",
       "        vertical-align: top;\n",
       "    }\n",
       "\n",
       "    .dataframe thead th {\n",
       "        text-align: right;\n",
       "    }\n",
       "</style>\n",
       "<table border=\"1\" class=\"dataframe\">\n",
       "  <thead>\n",
       "    <tr style=\"text-align: right;\">\n",
       "      <th></th>\n",
       "      <th>City</th>\n",
       "      <th>Country</th>\n",
       "      <th>Lat</th>\n",
       "      <th>Lng</th>\n",
       "      <th>Hotel Name</th>\n",
       "    </tr>\n",
       "  </thead>\n",
       "  <tbody>\n",
       "    <tr>\n",
       "      <th>58</th>\n",
       "      <td>Hithadhoo</td>\n",
       "      <td>MV</td>\n",
       "      <td>-0.6000</td>\n",
       "      <td>73.0833</td>\n",
       "      <td>Abuharee Grand</td>\n",
       "    </tr>\n",
       "    <tr>\n",
       "      <th>150</th>\n",
       "      <td>Batticaloa</td>\n",
       "      <td>LK</td>\n",
       "      <td>7.7102</td>\n",
       "      <td>81.6924</td>\n",
       "      <td>Hotel East Lagoon</td>\n",
       "    </tr>\n",
       "    <tr>\n",
       "      <th>246</th>\n",
       "      <td>Uarini</td>\n",
       "      <td>BR</td>\n",
       "      <td>-2.9900</td>\n",
       "      <td>-65.1083</td>\n",
       "      <td>NA</td>\n",
       "    </tr>\n",
       "    <tr>\n",
       "      <th>348</th>\n",
       "      <td>Singaraja</td>\n",
       "      <td>ID</td>\n",
       "      <td>-8.1120</td>\n",
       "      <td>115.0882</td>\n",
       "      <td>Puri Bagus Lovina Resort</td>\n",
       "    </tr>\n",
       "    <tr>\n",
       "      <th>363</th>\n",
       "      <td>Namatanai</td>\n",
       "      <td>PG</td>\n",
       "      <td>-3.6667</td>\n",
       "      <td>152.4333</td>\n",
       "      <td>Namatanai Hotel</td>\n",
       "    </tr>\n",
       "    <tr>\n",
       "      <th>438</th>\n",
       "      <td>Bonthe</td>\n",
       "      <td>SL</td>\n",
       "      <td>7.5264</td>\n",
       "      <td>-12.5050</td>\n",
       "      <td>Bonthe Holiday Village</td>\n",
       "    </tr>\n",
       "    <tr>\n",
       "      <th>447</th>\n",
       "      <td>Mahajanga</td>\n",
       "      <td>MG</td>\n",
       "      <td>-15.7167</td>\n",
       "      <td>46.3167</td>\n",
       "      <td>Baobab Tree Hotel &amp; Spa</td>\n",
       "    </tr>\n",
       "  </tbody>\n",
       "</table>\n",
       "</div>"
      ],
      "text/plain": [
       "           City Country      Lat       Lng                Hotel Name\n",
       "58    Hithadhoo      MV  -0.6000   73.0833            Abuharee Grand\n",
       "150  Batticaloa      LK   7.7102   81.6924         Hotel East Lagoon\n",
       "246      Uarini      BR  -2.9900  -65.1083                        NA\n",
       "348   Singaraja      ID  -8.1120  115.0882  Puri Bagus Lovina Resort\n",
       "363   Namatanai      PG  -3.6667  152.4333           Namatanai Hotel\n",
       "438      Bonthe      SL   7.5264  -12.5050    Bonthe Holiday Village\n",
       "447   Mahajanga      MG -15.7167   46.3167   Baobab Tree Hotel & Spa"
      ]
     },
     "execution_count": 17,
     "metadata": {},
     "output_type": "execute_result"
    }
   ],
   "source": [
    "#capitalize city names to make better-looking markers\n",
    "hotel_df['City'] = [str.capitalize() for str in hotel_df['City']]\n",
    "hotel_df"
   ]
  },
  {
   "cell_type": "code",
   "execution_count": 18,
   "metadata": {},
   "outputs": [],
   "source": [
    "# NOTE: Do not change any of the code in this cell\n",
    "\n",
    "# Using the template add the hotel marks to the heatmap\n",
    "info_box_template = \"\"\"\n",
    "<dl>\n",
    "<dt>Hotel Name</dt><dd>{Hotel Name}</dd>\n",
    "<dt>City</dt><dd>{City}</dd>\n",
    "<dt>Country</dt><dd>{Country}</dd>\n",
    "</dl>\n",
    "\"\"\"\n",
    "# Store the DataFrame Row\n",
    "# NOTE: be sure to update with your DataFrame name\n",
    "hotel_info = [info_box_template.format(**row) for index, row in hotel_df.iterrows()]\n",
    "locations = hotel_df[[\"Lat\", \"Lng\"]]"
   ]
  },
  {
   "cell_type": "code",
   "execution_count": 19,
   "metadata": {},
   "outputs": [
    {
     "data": {
      "application/vnd.jupyter.widget-view+json": {
       "model_id": "1069cf6b1aab40aba7114976f0039cc1",
       "version_major": 2,
       "version_minor": 0
      },
      "text/plain": [
       "Figure(layout=FigureLayout(height='420px'))"
      ]
     },
     "metadata": {},
     "output_type": "display_data"
    }
   ],
   "source": [
    "# Add marker layer ontop of heat map\n",
    "markers = gmaps.marker_layer(locations, info_box_content=hotel_info)\n",
    "\n",
    "# Display figure\n",
    "fig.add_layer(markers)\n",
    "fig"
   ]
  }
 ],
 "metadata": {
  "kernelspec": {
   "display_name": "Python 3",
   "language": "python",
   "name": "python3"
  },
  "language_info": {
   "codemirror_mode": {
    "name": "ipython",
    "version": 3
   },
   "file_extension": ".py",
   "mimetype": "text/x-python",
   "name": "python",
   "nbconvert_exporter": "python",
   "pygments_lexer": "ipython3",
   "version": "3.9.4"
  },
  "latex_envs": {
   "LaTeX_envs_menu_present": true,
   "autoclose": false,
   "autocomplete": true,
   "bibliofile": "biblio.bib",
   "cite_by": "apalike",
   "current_citInitial": 1,
   "eqLabelWithNumbers": true,
   "eqNumInitial": 1,
   "hotkeys": {
    "equation": "Ctrl-E",
    "itemize": "Ctrl-I"
   },
   "labels_anchors": false,
   "latex_user_defs": false,
   "report_style_numbering": false,
   "user_envs_cfg": false
  }
 },
 "nbformat": 4,
 "nbformat_minor": 4
}
